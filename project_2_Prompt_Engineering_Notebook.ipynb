{
  "cells": [
    {
      "cell_type": "markdown",
      "metadata": {
        "id": "view-in-github",
        "colab_type": "text"
      },
      "source": [
        "<a href=\"https://colab.research.google.com/github/abdul9870/abdul9870/blob/main/project_2_Prompt_Engineering_Notebook.ipynb\" target=\"_parent\"><img src=\"https://colab.research.google.com/assets/colab-badge.svg\" alt=\"Open In Colab\"/></a>"
      ]
    },
    {
      "cell_type": "markdown",
      "id": "6b2b6eac",
      "metadata": {
        "id": "6b2b6eac"
      },
      "source": [
        "# Hands-On Prompt Engineering with LLMs"
      ]
    },
    {
      "cell_type": "markdown",
      "id": "55067748",
      "metadata": {
        "id": "55067748"
      },
      "source": [
        "## Introduction and Objectives\n",
        "This notebook provides hands-on practice with various prompt engineering techniques.\n",
        "We will interact with a Large Language Model (LLM) to perform tasks like classification, Q&A, and simple reasoning.\n",
        "By the end of this session, you will be able to:\n",
        "- Understand and apply zero-shot, few-shot, and Chain-of-Thought (CoT) prompting.\n",
        "- Create and iterate on prompts for specific tasks.\n",
        "- Compare the effectiveness of different prompting strategies.\n",
        "- Gain experience interacting with LLMs."
      ]
    },
    {
      "cell_type": "markdown",
      "id": "9ad321ec",
      "metadata": {
        "id": "9ad321ec"
      },
      "source": [
        "## 1. Setup - Install and Import Libraries"
      ]
    },
    {
      "cell_type": "markdown",
      "id": "45b49d8a",
      "metadata": {
        "id": "45b49d8a"
      },
      "source": [
        "# Ensure necessary libraries are installed. Uncomment and run this cell in your environment if needed."
      ]
    },
    {
      "cell_type": "code",
      "execution_count": null,
      "id": "xMdYyxafLpNd",
      "metadata": {
        "id": "xMdYyxafLpNd",
        "colab": {
          "base_uri": "https://localhost:8080/"
        },
        "outputId": "f4f6443f-f597-4394-98a7-f861f827687e"
      },
      "outputs": [
        {
          "output_type": "stream",
          "name": "stdout",
          "text": [
            "\u001b[2K   \u001b[90m━━━━━━━━━━━━━━━━━━━━━━━━━━━━━━━━━━━━━━━━\u001b[0m \u001b[32m363.4/363.4 MB\u001b[0m \u001b[31m2.0 MB/s\u001b[0m eta \u001b[36m0:00:00\u001b[0m\n",
            "\u001b[2K   \u001b[90m━━━━━━━━━━━━━━━━━━━━━━━━━━━━━━━━━━━━━━━━\u001b[0m \u001b[32m13.8/13.8 MB\u001b[0m \u001b[31m16.3 MB/s\u001b[0m eta \u001b[36m0:00:00\u001b[0m\n",
            "\u001b[2K   \u001b[90m━━━━━━━━━━━━━━━━━━━━━━━━━━━━━━━━━━━━━━━━\u001b[0m \u001b[32m24.6/24.6 MB\u001b[0m \u001b[31m17.5 MB/s\u001b[0m eta \u001b[36m0:00:00\u001b[0m\n",
            "\u001b[2K   \u001b[90m━━━━━━━━━━━━━━━━━━━━━━━━━━━━━━━━━━━━━━━━\u001b[0m \u001b[32m883.7/883.7 kB\u001b[0m \u001b[31m12.2 MB/s\u001b[0m eta \u001b[36m0:00:00\u001b[0m\n",
            "\u001b[2K   \u001b[90m━━━━━━━━━━━━━━━━━━━━━━━━━━━━━━━━━━━━━━━━\u001b[0m \u001b[32m664.8/664.8 MB\u001b[0m \u001b[31m1.3 MB/s\u001b[0m eta \u001b[36m0:00:00\u001b[0m\n",
            "\u001b[2K   \u001b[90m━━━━━━━━━━━━━━━━━━━━━━━━━━━━━━━━━━━━━━━━\u001b[0m \u001b[32m211.5/211.5 MB\u001b[0m \u001b[31m2.1 MB/s\u001b[0m eta \u001b[36m0:00:00\u001b[0m\n",
            "\u001b[2K   \u001b[90m━━━━━━━━━━━━━━━━━━━━━━━━━━━━━━━━━━━━━━━━\u001b[0m \u001b[32m56.3/56.3 MB\u001b[0m \u001b[31m11.6 MB/s\u001b[0m eta \u001b[36m0:00:00\u001b[0m\n",
            "\u001b[2K   \u001b[90m━━━━━━━━━━━━━━━━━━━━━━━━━━━━━━━━━━━━━━━━\u001b[0m \u001b[32m127.9/127.9 MB\u001b[0m \u001b[31m8.1 MB/s\u001b[0m eta \u001b[36m0:00:00\u001b[0m\n",
            "\u001b[2K   \u001b[90m━━━━━━━━━━━━━━━━━━━━━━━━━━━━━━━━━━━━━━━━\u001b[0m \u001b[32m207.5/207.5 MB\u001b[0m \u001b[31m7.5 MB/s\u001b[0m eta \u001b[36m0:00:00\u001b[0m\n",
            "\u001b[2K   \u001b[90m━━━━━━━━━━━━━━━━━━━━━━━━━━━━━━━━━━━━━━━━\u001b[0m \u001b[32m21.1/21.1 MB\u001b[0m \u001b[31m66.4 MB/s\u001b[0m eta \u001b[36m0:00:00\u001b[0m\n",
            "\u001b[?25h\u001b[31mERROR: Operation cancelled by user\u001b[0m\u001b[31m\n",
            "\u001b[0m"
          ]
        }
      ],
      "source": [
        "# We will primarily use Hugging Face Transformers for accessing an LLM.\n",
        "!pip install transformers torch accelerate sentencepiece -q # sentencepiece is often needed for T5 models"
      ]
    },
    {
      "cell_type": "code",
      "execution_count": null,
      "id": "bbfc21ed",
      "metadata": {
        "id": "bbfc21ed"
      },
      "outputs": [],
      "source": [
        "# Import required libraries\n",
        "import torch\n",
        "from transformers import pipeline"
      ]
    },
    {
      "cell_type": "markdown",
      "id": "1ef8424b",
      "metadata": {
        "id": "1ef8424b"
      },
      "source": [
        "## 2. Choosing and Accessing an LLM\n",
        "For this notebook, we will use a relatively small and accessible text-to-text generation model\n",
        "from the Hugging Face Hub, such as a FLAN-T5 variant. This allows us to experiment\n",
        "without needing API keys for proprietary models. If you have access to other models\n",
        "(e.g., via OpenAI API), you can adapt the `get_llm_response` function accordingly.\n",
        "\n",
        "**Important Note on API Keys (if using API-based models like OpenAI):**\n",
        "If you adapt this notebook to use an API that requires keys (e.g., OpenAI GPT models):\n",
        "1.  You will need your own API key.\n",
        "2.  **NEVER hardcode your API key directly in the notebook.**\n",
        "3.  Store it securely, for example, as an environment variable or use a secure input method if your environment supports it.\n",
        "    - In Colab, you can use the \"Secrets\" manager.\n",
        "    - Locally, you can set environment variables (e.g., `OPENAI_API_KEY`)."
      ]
    },
    {
      "cell_type": "code",
      "execution_count": null,
      "id": "8f94dde9",
      "metadata": {
        "id": "8f94dde9",
        "colab": {
          "base_uri": "https://localhost:8080/",
          "height": 487,
          "referenced_widgets": [
            "59a842fb25324789a5c320697ac3c6c0",
            "8c81a09e6b1c456d919ab083981c98f2",
            "d9c9ccbdf04d4299addd667971fdbc98",
            "927843c3e07d465daf68455d76ec4b87",
            "00cd2f25024a4542b492af59bb51c97b",
            "213d2eb3723c4fb1bbdd80de59fafe81",
            "330c8b791b9b4da78ba7b5e9c0c98f8d",
            "3c1e9d7be3044d1fa36e0672785834b9",
            "925f66e8b9d64504bffc6b9cd2b29e82",
            "39c808e960744d728e2b568336c3b5ba",
            "3e5b90c19f0a4e31bed79399db28eaf3",
            "6a8d562d24b0447d9f27349e85ed5e0b",
            "aa287b970d2b423c8b0078006760c8a5",
            "a4f1752ed6b14039894016bd29716a23",
            "1ddee714a1464875b46abfd15b89e45f",
            "c8467d13e4f74fb99b54089a17e777ff",
            "ae20920ff5344d699928b1d8cc6a7edb",
            "db48aba4035047ffa7bcf2791863cfea",
            "808e9ec0421b4493aa4be265085b6a90",
            "21db823ce5034de69a505d87eff5869a",
            "c3466107374d40309dce74def8e62040",
            "7a9d3027fb4e43b483efb46781c05af1",
            "6514e667e0d743b59356deff62fd59ad",
            "4cbc7d75811b45a4a2bd3922f645f49a",
            "d3a86caabf504ab9b75228af6ac82198",
            "a4de1878de4441a3974fc14162d7bc2b",
            "0de1f7892c21484e9a86af8dacea6874",
            "ccd5fa165a8e4b13bee0a8575f0513c2",
            "7179f915a4a34306b3c127991fe4c30a",
            "ccf4dc7005d34251936ec24d14b78f95",
            "b84a4df767cc4ce28deaf642c87b41c3",
            "80617bebc388495780f6b93a85bd2723",
            "d27fc641f26e41d2afcdb8e57356853c",
            "4f3bb38e551e4958b43f317a6ef80b55",
            "4047d40726434aa086d8d648f1f6a30f",
            "e38b281afebf49d5ad61751663168ba4",
            "58d88d9f731840f7a543bb9e484adfa1",
            "c3ea3c0737bb420ab7846482ab636863",
            "628b14030b784f7ea419cd865edc41cd",
            "fd22251fff3d4cd5a1b8920c581ec55a",
            "ba8576b097384d14b814e7ced16e02d1",
            "a4a7a2abc50a4a75a6807dde909a69e6",
            "79470d2c3fec4330a0f42ff599f876f1",
            "09b849f08eb94552b3ee5c93fa46c77b",
            "177abeb72df54d95ab677b244b565d26",
            "b7cccf8bdf874157bf3b2ccf4ede3345",
            "c9b97f7ad8d3438988dd85577b079b99",
            "555a90b16bfe4061b413991cc3c18cdd",
            "4ed04076acbb4134a2b7216f575c2fad",
            "be25530271ea4037b6b87d6e2df699cf",
            "888c782338db447cad39ff6a3d178d3a",
            "3380d541139a4aa187ba8fe72f2976df",
            "6c7dd850c5614aaeaef791981f415b8f",
            "9bac2a5efdca45b49e2b27884e894990",
            "98a6ba19c8ea4e0c89aaf8581649ee4c",
            "c08e52ed1b2948b0b5bd077518a8f30f",
            "41d2542ba8214fdb850a0c425e5a9a95",
            "e52f22157deb49db8d627eca1f0b8c94",
            "23d7cb12c2114508b303659448a79122",
            "abdcc43d0e6f4ed491093412697bc23b",
            "9127cc107bee4b8e9f0fab056f6c7aae",
            "e19320b5007043abb469bd69f81286af",
            "9f51a3ab7e5a4c5c8a2b93984cc0dc9e",
            "de4521194ff84a80a4b8292fec7a7caa",
            "511712c1c6a84d5d9b21b3402419c06a",
            "fa56ed7d4f324d9cb45c4ab0fa5d2b9d",
            "e8905e012a5549a6a11dd9787c95016c",
            "ef228c684bf44c57b73220b2495e7fd7",
            "86bd74bec78c429d8852b5b36e1c6a8d",
            "00238467ea8a4001859d48b78cd3b7f7",
            "d1a34d74d92a48909b5770f3e65225ac",
            "389eb66bd00c4f66880fc191401665d8",
            "e05497ab0b404e03b7052dc09c11bb7e",
            "2dde9806781b4cce84468c27e9de0601",
            "4a9398186bf9490b80c9c021461fa4fe",
            "d4167ba954a24f74b21255f8bb990377",
            "0a55de71dea8402e85c50c2b20021e24"
          ]
        },
        "outputId": "24a531be-12a2-44c6-99bc-fb69279fc70d"
      },
      "outputs": [
        {
          "output_type": "stream",
          "name": "stdout",
          "text": [
            "Loading LLM pipeline with model: google/flan-t5-small...\n"
          ]
        },
        {
          "output_type": "stream",
          "name": "stderr",
          "text": [
            "/usr/local/lib/python3.11/dist-packages/huggingface_hub/utils/_auth.py:94: UserWarning: \n",
            "The secret `HF_TOKEN` does not exist in your Colab secrets.\n",
            "To authenticate with the Hugging Face Hub, create a token in your settings tab (https://huggingface.co/settings/tokens), set it as secret in your Google Colab and restart your session.\n",
            "You will be able to reuse this secret in all of your notebooks.\n",
            "Please note that authentication is recommended but still optional to access public models or datasets.\n",
            "  warnings.warn(\n"
          ]
        },
        {
          "output_type": "display_data",
          "data": {
            "text/plain": [
              "config.json:   0%|          | 0.00/1.40k [00:00<?, ?B/s]"
            ],
            "application/vnd.jupyter.widget-view+json": {
              "version_major": 2,
              "version_minor": 0,
              "model_id": "59a842fb25324789a5c320697ac3c6c0"
            }
          },
          "metadata": {}
        },
        {
          "output_type": "stream",
          "name": "stderr",
          "text": [
            "Xet Storage is enabled for this repo, but the 'hf_xet' package is not installed. Falling back to regular HTTP download. For better performance, install the package with: `pip install huggingface_hub[hf_xet]` or `pip install hf_xet`\n",
            "WARNING:huggingface_hub.file_download:Xet Storage is enabled for this repo, but the 'hf_xet' package is not installed. Falling back to regular HTTP download. For better performance, install the package with: `pip install huggingface_hub[hf_xet]` or `pip install hf_xet`\n"
          ]
        },
        {
          "output_type": "display_data",
          "data": {
            "text/plain": [
              "model.safetensors:   0%|          | 0.00/308M [00:00<?, ?B/s]"
            ],
            "application/vnd.jupyter.widget-view+json": {
              "version_major": 2,
              "version_minor": 0,
              "model_id": "6a8d562d24b0447d9f27349e85ed5e0b"
            }
          },
          "metadata": {}
        },
        {
          "output_type": "display_data",
          "data": {
            "text/plain": [
              "generation_config.json:   0%|          | 0.00/147 [00:00<?, ?B/s]"
            ],
            "application/vnd.jupyter.widget-view+json": {
              "version_major": 2,
              "version_minor": 0,
              "model_id": "6514e667e0d743b59356deff62fd59ad"
            }
          },
          "metadata": {}
        },
        {
          "output_type": "display_data",
          "data": {
            "text/plain": [
              "tokenizer_config.json:   0%|          | 0.00/2.54k [00:00<?, ?B/s]"
            ],
            "application/vnd.jupyter.widget-view+json": {
              "version_major": 2,
              "version_minor": 0,
              "model_id": "4f3bb38e551e4958b43f317a6ef80b55"
            }
          },
          "metadata": {}
        },
        {
          "output_type": "stream",
          "name": "stderr",
          "text": [
            "Xet Storage is enabled for this repo, but the 'hf_xet' package is not installed. Falling back to regular HTTP download. For better performance, install the package with: `pip install huggingface_hub[hf_xet]` or `pip install hf_xet`\n",
            "WARNING:huggingface_hub.file_download:Xet Storage is enabled for this repo, but the 'hf_xet' package is not installed. Falling back to regular HTTP download. For better performance, install the package with: `pip install huggingface_hub[hf_xet]` or `pip install hf_xet`\n"
          ]
        },
        {
          "output_type": "display_data",
          "data": {
            "text/plain": [
              "spiece.model:   0%|          | 0.00/792k [00:00<?, ?B/s]"
            ],
            "application/vnd.jupyter.widget-view+json": {
              "version_major": 2,
              "version_minor": 0,
              "model_id": "177abeb72df54d95ab677b244b565d26"
            }
          },
          "metadata": {}
        },
        {
          "output_type": "display_data",
          "data": {
            "text/plain": [
              "tokenizer.json:   0%|          | 0.00/2.42M [00:00<?, ?B/s]"
            ],
            "application/vnd.jupyter.widget-view+json": {
              "version_major": 2,
              "version_minor": 0,
              "model_id": "c08e52ed1b2948b0b5bd077518a8f30f"
            }
          },
          "metadata": {}
        },
        {
          "output_type": "display_data",
          "data": {
            "text/plain": [
              "special_tokens_map.json:   0%|          | 0.00/2.20k [00:00<?, ?B/s]"
            ],
            "application/vnd.jupyter.widget-view+json": {
              "version_major": 2,
              "version_minor": 0,
              "model_id": "e8905e012a5549a6a11dd9787c95016c"
            }
          },
          "metadata": {}
        },
        {
          "output_type": "stream",
          "name": "stderr",
          "text": [
            "Device set to use cpu\n"
          ]
        },
        {
          "output_type": "stream",
          "name": "stdout",
          "text": [
            "LLM pipeline loaded successfully.\n"
          ]
        }
      ],
      "source": [
        "# Load a text2text-generation pipeline with a FLAN-T5 model\n",
        "# Using a smaller model for faster inference in a teaching setting.\n",
        "# You can try other models like \"google/flan-t5-base\" or \"google/flan-t5-large\" for better performance (but slower).\n",
        "MODEL_CHOICE = \"google/flan-t5-small\"\n",
        "\n",
        "try:\n",
        "    print(f\"Loading LLM pipeline with model: {MODEL_CHOICE}...\")\n",
        "    llm_pipeline = pipeline(\"text2text-generation\", model=MODEL_CHOICE, device=0 if torch.cuda.is_available() else -1)\n",
        "    print(\"LLM pipeline loaded successfully.\")\n",
        "except Exception as e:\n",
        "    print(f\"Error loading LLM pipeline: {e}\")\n",
        "    print(\"Please ensure you have a working internet connection and the necessary libraries installed.\")\n",
        "    llm_pipeline = None # Set to None if loading fails\n",
        "\n",
        "# Helper function to get LLM response (works with the Hugging Face pipeline)\n",
        "def get_llm_response(prompt_text, max_length=150):\n",
        "    if llm_pipeline is None:\n",
        "        return \"Error: LLM pipeline not loaded.\"\n",
        "    try:\n",
        "        # The pipeline returns a list of dictionaries\n",
        "        response = llm_pipeline(prompt_text, max_length=max_length)\n",
        "        return response[0][\"generated_text\"].strip()\n",
        "    except Exception as e:\n",
        "        return f\"Error during LLM inference: {e}\""
      ]
    },
    {
      "cell_type": "code",
      "execution_count": null,
      "id": "a4ed38f8",
      "metadata": {
        "id": "a4ed38f8",
        "colab": {
          "base_uri": "https://localhost:8080/"
        },
        "outputId": "7604d80c-f07b-447b-f6bf-82794796c2be"
      },
      "outputs": [
        {
          "output_type": "stream",
          "name": "stdout",
          "text": [
            "Test Prompt: Translate to German: Hello, how are you?\n",
            "Test Response: Hello, wie ich ich?\n"
          ]
        }
      ],
      "source": [
        "# Test the LLM pipeline with a simple prompt\n",
        "if llm_pipeline:\n",
        "    test_prompt = \"Translate to German: Hello, how are you?\"\n",
        "    test_response = get_llm_response(test_prompt)\n",
        "    print(f\"Test Prompt: {test_prompt}\")\n",
        "    print(f\"Test Response: {test_response}\")\n",
        "else:\n",
        "    print(\"Skipping LLM test as pipeline failed to load.\")"
      ]
    },
    {
      "cell_type": "markdown",
      "id": "ae86c9ef",
      "metadata": {
        "id": "ae86c9ef"
      },
      "source": [
        "## 3. Task 1 - Zero-Shot Prompting\n",
        "Zero-shot prompting involves asking the LLM to perform a task without providing any prior examples of that specific task in the prompt. The LLM relies on its pre-trained knowledge."
      ]
    },
    {
      "cell_type": "markdown",
      "id": "48459c81",
      "metadata": {
        "id": "48459c81"
      },
      "source": [
        "### 3.1 Sentiment Classification (Zero-Shot)"
      ]
    },
    {
      "cell_type": "code",
      "execution_count": null,
      "id": "5fd3af04",
      "metadata": {
        "id": "5fd3af04",
        "colab": {
          "base_uri": "https://localhost:8080/"
        },
        "outputId": "3f76f9e9-81ee-4b14-d5c2-f2d3bb4f357f"
      },
      "outputs": [
        {
          "output_type": "stream",
          "name": "stdout",
          "text": [
            "Review: This movie was absolutely fantastic! The acting was superb, and the plot was engaging. Highly recommended.\n",
            "LLM Output (Sentiment): positive\n",
            "---\n",
            "Review: I was really disappointed with this film. It was boring, predictable, and far too long.\n",
            "LLM Output (Sentiment): negative\n"
          ]
        }
      ],
      "source": [
        "review1 = \"This movie was absolutely fantastic! The acting was superb, and the plot was engaging. Highly recommended.\"\n",
        "review2 = \"I was really disappointed with this film. It was boring, predictable, and far too long.\"\n",
        "\n",
        "prompt_sentiment_zero_shot_template = \"Classify the sentiment of the following movie review as positive, negative, or neutral. Review: {review} Sentiment:\"\n",
        "\n",
        "if llm_pipeline:\n",
        "    prompt1 = prompt_sentiment_zero_shot_template.format(review=review1)\n",
        "    response1 = get_llm_response(prompt1)\n",
        "    print(f\"Review: {review1}\")\n",
        "    # print(f\"Prompt: {prompt1}\") # You can uncomment to see the full prompt\n",
        "    print(f\"LLM Output (Sentiment): {response1}\")\n",
        "\n",
        "    print(\"---\")\n",
        "    prompt2 = prompt_sentiment_zero_shot_template.format(review=review2)\n",
        "    response2 = get_llm_response(prompt2)\n",
        "    print(f\"Review: {review2}\")\n",
        "    # print(f\"Prompt: {prompt2}\")\n",
        "    print(f\"LLM Output (Sentiment): {response2}\")\n",
        "else:\n",
        "    print(\"Skipping Zero-Shot Sentiment Classification as LLM pipeline is not loaded.\")"
      ]
    },
    {
      "cell_type": "markdown",
      "id": "1138dbd2",
      "metadata": {
        "id": "1138dbd2"
      },
      "source": [
        "### 3.2 Summarization (Zero-Shot)"
      ]
    },
    {
      "cell_type": "code",
      "execution_count": null,
      "id": "76a685d0",
      "metadata": {
        "id": "76a685d0",
        "colab": {
          "base_uri": "https://localhost:8080/"
        },
        "outputId": "5e3478c4-00f6-445f-eeb0-489dc5a4cfe7"
      },
      "outputs": [
        {
          "output_type": "stream",
          "name": "stdout",
          "text": [
            "Original Paragraph: The James Webb Space Telescope (JWST) is a space telescope designed primarily to conduct infrared astronomy. As the largest optical telescope in space, its high infrared resolution and sensitivity allow it to view objects too old, distant, or faint for the Hubble Space Telescope. This is expected to enable a broad range of investigations across the fields of astronomy and cosmology, such as observation of the first stars and the formation of the first galaxies, and detailed atmospheric characterization of potentially habitable exoplanets.\n",
            "LLM Summary: The James Webb Space Telescope is a space telescope designed to conduct infrared astronomy.\n"
          ]
        }
      ],
      "source": [
        "paragraph_to_summarize = \"The James Webb Space Telescope (JWST) is a space telescope designed primarily to conduct infrared astronomy. As the largest optical telescope in space, its high infrared resolution and sensitivity allow it to view objects too old, distant, or faint for the Hubble Space Telescope. This is expected to enable a broad range of investigations across the fields of astronomy and cosmology, such as observation of the first stars and the formation of the first galaxies, and detailed atmospheric characterization of potentially habitable exoplanets.\"\n",
        "prompt_summarize_zero_shot = f\"Summarize the following paragraph in one concise sentence: \\nParagraph: {paragraph_to_summarize}\\nSummary:\"\n",
        "\n",
        "if llm_pipeline:\n",
        "    summary_response = get_llm_response(prompt_summarize_zero_shot, max_length=50)\n",
        "    print(f\"Original Paragraph: {paragraph_to_summarize}\")\n",
        "    print(f\"LLM Summary: {summary_response}\")\n",
        "else:\n",
        "    print(\"Skipping Zero-Shot Summarization as LLM pipeline is not loaded.\")"
      ]
    },
    {
      "cell_type": "markdown",
      "id": "8594248a",
      "metadata": {
        "id": "8594248a"
      },
      "source": [
        "## 4. Task 2 - Few-Shot Prompting\n",
        "Few-shot prompting involves providing a few examples (input-output pairs, or \"shots\") of the task within the prompt to guide the LLM. This helps the model understand the task and desired output format better through in-context learning."
      ]
    },
    {
      "cell_type": "markdown",
      "id": "8b47fa9c",
      "metadata": {
        "id": "8b47fa9c"
      },
      "source": [
        "### 4.1 Sentiment Classification (Few-Shot)\n",
        "Let's try to improve sentiment classification by providing examples."
      ]
    },
    {
      "cell_type": "code",
      "execution_count": null,
      "id": "d82809d6",
      "metadata": {
        "id": "d82809d6",
        "colab": {
          "base_uri": "https://localhost:8080/"
        },
        "outputId": "2cca9347-523f-4cdc-d51d-bd57645a6f35"
      },
      "outputs": [
        {
          "output_type": "stream",
          "name": "stdout",
          "text": [
            "New Review: The movie was okay, not the best I've seen but had some good moments.\n",
            "LLM Output (Sentiment, Few-Shot): positive\n"
          ]
        }
      ],
      "source": [
        "review_new = \"The movie was okay, not the best I've seen but had some good moments.\"\n",
        "\n",
        "prompt_sentiment_few_shot = f\"\"\"Classify the sentiment of the following movie reviews as positive, negative, or neutral.\n",
        "\n",
        "Review: I loved this movie! It was amazing.\n",
        "Sentiment: positive\n",
        "\n",
        "Review: This film was a complete waste of time.\n",
        "Sentiment: negative\n",
        "\n",
        "Review: It was an average movie, nothing special.\n",
        "Sentiment: neutral\n",
        "\n",
        "Review: {review_new}\n",
        "Sentiment:\"\"\"\n",
        "\n",
        "if llm_pipeline:\n",
        "    few_shot_response = get_llm_response(prompt_sentiment_few_shot)\n",
        "    print(f\"New Review: {review_new}\")\n",
        "    # print(f\"Few-Shot Prompt: \\n{prompt_sentiment_few_shot}\") # Uncomment to see the full prompt\n",
        "    print(f\"LLM Output (Sentiment, Few-Shot): {few_shot_response}\")\n",
        "    # Compare this with a zero-shot attempt for `review_new` if you like.\n",
        "else:\n",
        "    print(\"Skipping Few-Shot Sentiment Classification as LLM pipeline is not loaded.\")"
      ]
    },
    {
      "cell_type": "markdown",
      "id": "c2216e88",
      "metadata": {
        "id": "c2216e88"
      },
      "source": [
        "### 4.2 Custom Task: Extracting Product Features (Few-Shot)"
      ]
    },
    {
      "cell_type": "code",
      "execution_count": null,
      "id": "7d88debf",
      "metadata": {
        "id": "7d88debf",
        "colab": {
          "base_uri": "https://localhost:8080/"
        },
        "outputId": "47587be9-9ff8-4d2f-c1c3-04e36238ae92"
      },
      "outputs": [
        {
          "output_type": "stream",
          "name": "stdout",
          "text": [
            "New Product Description: Introducing the new SuperPhone X, featuring a stunning 6.7-inch OLED display, an advanced A20 Bionic chip, and a triple-camera system with 8K video recording.\n",
            "LLM Output (Extracted Features, Few-Shot): SuperPhone X features a stunning 6.7-inch OLED display, an advanced A20 Bionic chip, and a triple-camera system with 8K video recording.\n"
          ]
        }
      ],
      "source": [
        "product_description_new = \"Introducing the new SuperPhone X, featuring a stunning 6.7-inch OLED display, an advanced A20 Bionic chip, and a triple-camera system with 8K video recording.\"\n",
        "\n",
        "prompt_extract_features_few_shot = f\"\"\"Extract key features from the product descriptions.\n",
        "\n",
        "Description: The SmartBook Pro laptop comes with a 13-inch Retina display, M2 chip, and 16GB RAM.\n",
        "Features: 13-inch Retina display, M2 chip, 16GB RAM\n",
        "\n",
        "Description: Our new SoundWave headphones offer active noise cancellation, 30-hour battery life, and Bluetooth 5.2.\n",
        "Features: active noise cancellation, 30-hour battery life, Bluetooth 5.2\n",
        "\n",
        "Description: {product_description_new}\n",
        "Features:\"\"\"\n",
        "\n",
        "if llm_pipeline:\n",
        "    features_response = get_llm_response(prompt_extract_features_few_shot, max_length=100)\n",
        "    print(f\"New Product Description: {product_description_new}\")\n",
        "    print(f\"LLM Output (Extracted Features, Few-Shot): {features_response}\")\n",
        "else:\n",
        "    print(\"Skipping Few-Shot Feature Extraction as LLM pipeline is not loaded.\")"
      ]
    },
    {
      "cell_type": "markdown",
      "id": "8ccd850a",
      "metadata": {
        "id": "8ccd850a"
      },
      "source": [
        "## 5. Task 3 - Chain-of-Thought (CoT) Prompting\n",
        "Chain-of-Thought prompting encourages the LLM to generate a series of intermediate reasoning steps before giving the final answer. This is particularly useful for tasks requiring complex reasoning, like math word problems or logical deductions.\n",
        "We often elicit CoT by including \"Let's think step by step\" or similar phrases in our few-shot examples or directly in the prompt for the new problem."
      ]
    },
    {
      "cell_type": "markdown",
      "id": "8006a048",
      "metadata": {
        "id": "8006a048"
      },
      "source": [
        "### 5.1 Math Word Problem (CoT)"
      ]
    },
    {
      "cell_type": "code",
      "execution_count": null,
      "id": "1ad90ba5",
      "metadata": {
        "id": "1ad90ba5",
        "colab": {
          "base_uri": "https://localhost:8080/"
        },
        "outputId": "e476d6d4-30e2-489b-cc07-839f102a4973"
      },
      "outputs": [
        {
          "output_type": "stream",
          "name": "stdout",
          "text": [
            "New Word Problem: Natalia sold clips to 4 of her friends. If she sold 8 clips to each friend, how many clips did she sell in total?\n",
            "LLM Solution (CoT): Natalia sold 8 * 4 = 24 clips. So, Natalia sold 24 + 8 = 66 clips. So, Natalia sold 66 + 66 = 66 clips. The final answer is 66.\n",
            "LLM Solution (Direct): 8\n"
          ]
        }
      ],
      "source": [
        "word_problem_cot_example = \"Q: Roger has 5 tennis balls. He buys 2 more cans of tennis balls. Each can has 3 tennis balls. How many tennis balls does he have now?\\nA: Let's think step by step. Roger starts with 5 balls. He buys 2 cans, and each can has 3 balls. So, he gets 2 * 3 = 6 more balls. In total, he has 5 + 6 = 11 balls. The final answer is 11.\"\n",
        "\n",
        "new_word_problem = \"Natalia sold clips to 4 of her friends. If she sold 8 clips to each friend, how many clips did she sell in total?\"\n",
        "\n",
        "prompt_solve_cot = f\"{word_problem_cot_example}\\n\\nQ: {new_word_problem}\\nA: Let's think step by step.\"\n",
        "\n",
        "if llm_pipeline:\n",
        "    cot_math_response = get_llm_response(prompt_solve_cot, max_length=200)\n",
        "    print(f\"New Word Problem: {new_word_problem}\")\n",
        "    print(f\"LLM Solution (CoT): {cot_math_response}\")\n",
        "\n",
        "    # For comparison, a non-CoT prompt (might be less reliable for complex problems)\n",
        "    prompt_solve_direct = f\"Q: {new_word_problem}\\nA:\"\n",
        "    direct_math_response = get_llm_response(prompt_solve_direct, max_length=50)\n",
        "    print(f\"LLM Solution (Direct): {direct_math_response}\")\n",
        "else:\n",
        "    print(\"Skipping CoT Math Problem as LLM pipeline is not loaded.\")"
      ]
    },
    {
      "cell_type": "markdown",
      "id": "19c63ecb",
      "metadata": {
        "id": "19c63ecb"
      },
      "source": [
        "## 6. Task 4 - Iterating and Comparing Custom Prompts\n",
        "Prompt engineering is an iterative process. For a given task, you might try several different prompts to see which yields the best results.\n",
        "Key elements to vary include: clarity, specificity, amount of context, constraints, and desired output format."
      ]
    },
    {
      "cell_type": "markdown",
      "id": "c2483a4f",
      "metadata": {
        "id": "c2483a4f"
      },
      "source": [
        "### 6.1 Generating Taglines\n",
        "Goal: Generate a catchy tagline for a new eco-friendly coffee shop."
      ]
    },
    {
      "cell_type": "code",
      "execution_count": null,
      "id": "dfbb1adc",
      "metadata": {
        "id": "dfbb1adc",
        "colab": {
          "base_uri": "https://localhost:8080/"
        },
        "outputId": "849a4a67-2cfa-445d-a2fa-1375cfaacbd3"
      },
      "outputs": [
        {
          "output_type": "stream",
          "name": "stdout",
          "text": [
            "Goal: Generate a catchy tagline for a new eco-friendly coffee shop called 'GreenSprout Cafe'.\n",
            "---\n",
            "Prompt V1: Tagline for GreenSprout Cafe, an eco-friendly coffee shop:\n",
            "LLM Output V1: GreenSprout Cafe is a coffee shop that is eco friendly and serves food.\n",
            "---\n",
            "Prompt V2: Write a short, catchy, and memorable tagline (under 10 words) for a new coffee shop named 'GreenSprout Cafe'. The shop emphasizes its commitment to sustainability, organic ingredients, and a cozy atmosphere.\n",
            "LLM Output V2: GreenSprout Cafe is a coffee shop that is a little bit more than a coffee shop.\n",
            "---\n",
            "Prompt V3: Act as a creative marketing expert. Generate three distinct taglines for 'GreenSprout Cafe'. This coffee shop is known for its fair-trade organic coffee, locally sourced pastries, and strong focus on environmental sustainability. Taglines should be inspiring and highlight its green values.\n",
            "LLM Output V3: GreenSprout Cafe\n"
          ]
        }
      ],
      "source": [
        "goal_tagline = \"Generate a catchy tagline for a new eco-friendly coffee shop called 'GreenSprout Cafe'.\"\n",
        "\n",
        "# Prompt V1: Very simple\n",
        "prompt_tagline_v1 = f\"Tagline for GreenSprout Cafe, an eco-friendly coffee shop:\"\n",
        "\n",
        "# Prompt V2: More specific about desired output\n",
        "prompt_tagline_v2 = f\"Write a short, catchy, and memorable tagline (under 10 words) for a new coffee shop named 'GreenSprout Cafe'. The shop emphasizes its commitment to sustainability, organic ingredients, and a cozy atmosphere.\"\n",
        "\n",
        "# Prompt V3: Using role-playing and asking for multiple options\n",
        "prompt_tagline_v3 = f\"Act as a creative marketing expert. Generate three distinct taglines for 'GreenSprout Cafe'. This coffee shop is known for its fair-trade organic coffee, locally sourced pastries, and strong focus on environmental sustainability. Taglines should be inspiring and highlight its green values.\"\n",
        "\n",
        "if llm_pipeline:\n",
        "    print(f\"Goal: {goal_tagline}\")\n",
        "    print(\"---\")\n",
        "\n",
        "    response_tagline_v1 = get_llm_response(prompt_tagline_v1, max_length=50)\n",
        "    print(f\"Prompt V1: {prompt_tagline_v1}\")\n",
        "    print(f\"LLM Output V1: {response_tagline_v1}\")\n",
        "    print(\"---\")\n",
        "\n",
        "    response_tagline_v2 = get_llm_response(prompt_tagline_v2, max_length=50)\n",
        "    print(f\"Prompt V2: {prompt_tagline_v2}\")\n",
        "    print(f\"LLM Output V2: {response_tagline_v2}\")\n",
        "    print(\"---\")\n",
        "\n",
        "    response_tagline_v3 = get_llm_response(prompt_tagline_v3, max_length=100)\n",
        "    print(f\"Prompt V3: {prompt_tagline_v3}\")\n",
        "    print(f\"LLM Output V3: {response_tagline_v3}\")\n",
        "else:\n",
        "    print(\"Skipping Custom Prompt Comparison as LLM pipeline is not loaded.\")"
      ]
    },
    {
      "cell_type": "markdown",
      "id": "ca7f96bb",
      "metadata": {
        "id": "ca7f96bb"
      },
      "source": [
        "## 7. Conclusion and Further Exploration\n",
        "In this notebook, we explored several fundamental prompt engineering techniques:\n",
        "- **Zero-Shot Prompting:** Leveraging the LLM's existing knowledge without examples.\n",
        "- **Few-Shot Prompting:** Guiding the LLM with a few in-context examples.\n",
        "- **Chain-of-Thought (CoT) Prompting:** Encouraging step-by-step reasoning for complex tasks.\n",
        "- **Iterative Prompt Design:** Experimenting with different phrasings, context, and constraints.\n",
        "\n",
        "Effective prompt engineering is key to unlocking the full potential of LLMs. It often involves creativity, experimentation, and a good understanding of the LLM's capabilities and limitations.\n",
        "\n",
        "**Further Exploration Ideas:**\n",
        "- Experiment with different LLMs (e.g., other models from Hugging Face Hub).\n",
        "- Try more complex tasks requiring multi-turn conversations or more elaborate CoT.\n",
        "- Explore prompt templating libraries if you build applications.\n",
        "- Investigate the impact of generation parameters like `temperature`, `top_p`, `top_k` (if your pipeline/API supports them)."
      ]
    },
    {
      "cell_type": "markdown",
      "id": "5ba89d04",
      "metadata": {
        "id": "5ba89d04"
      },
      "source": [
        "## 8. Next Steps\n",
        "In the next session (Day 4 of the course), we will look into building a Text Generation CLI App using LangChain, which often involves sophisticated prompt management.\n",
        "\n",
        "print(\"\\nPrompt Engineering Notebook script finished.\")"
      ]
    },
    {
      "cell_type": "code",
      "source": [],
      "metadata": {
        "id": "BiSbZjq8RKBr"
      },
      "id": "BiSbZjq8RKBr",
      "execution_count": null,
      "outputs": []
    }
  ],
  "metadata": {
    "colab": {
      "provenance": [],
      "include_colab_link": true
    },
    "kernelspec": {
      "display_name": "Python 3",
      "name": "python3"
    },
    "language_info": {
      "name": "python"
    },
    "widgets": {
      "application/vnd.jupyter.widget-state+json": {
        "59a842fb25324789a5c320697ac3c6c0": {
          "model_module": "@jupyter-widgets/controls",
          "model_name": "HBoxModel",
          "model_module_version": "1.5.0",
          "state": {
            "_dom_classes": [],
            "_model_module": "@jupyter-widgets/controls",
            "_model_module_version": "1.5.0",
            "_model_name": "HBoxModel",
            "_view_count": null,
            "_view_module": "@jupyter-widgets/controls",
            "_view_module_version": "1.5.0",
            "_view_name": "HBoxView",
            "box_style": "",
            "children": [
              "IPY_MODEL_8c81a09e6b1c456d919ab083981c98f2",
              "IPY_MODEL_d9c9ccbdf04d4299addd667971fdbc98",
              "IPY_MODEL_927843c3e07d465daf68455d76ec4b87"
            ],
            "layout": "IPY_MODEL_00cd2f25024a4542b492af59bb51c97b"
          }
        },
        "8c81a09e6b1c456d919ab083981c98f2": {
          "model_module": "@jupyter-widgets/controls",
          "model_name": "HTMLModel",
          "model_module_version": "1.5.0",
          "state": {
            "_dom_classes": [],
            "_model_module": "@jupyter-widgets/controls",
            "_model_module_version": "1.5.0",
            "_model_name": "HTMLModel",
            "_view_count": null,
            "_view_module": "@jupyter-widgets/controls",
            "_view_module_version": "1.5.0",
            "_view_name": "HTMLView",
            "description": "",
            "description_tooltip": null,
            "layout": "IPY_MODEL_213d2eb3723c4fb1bbdd80de59fafe81",
            "placeholder": "​",
            "style": "IPY_MODEL_330c8b791b9b4da78ba7b5e9c0c98f8d",
            "value": "config.json: 100%"
          }
        },
        "d9c9ccbdf04d4299addd667971fdbc98": {
          "model_module": "@jupyter-widgets/controls",
          "model_name": "FloatProgressModel",
          "model_module_version": "1.5.0",
          "state": {
            "_dom_classes": [],
            "_model_module": "@jupyter-widgets/controls",
            "_model_module_version": "1.5.0",
            "_model_name": "FloatProgressModel",
            "_view_count": null,
            "_view_module": "@jupyter-widgets/controls",
            "_view_module_version": "1.5.0",
            "_view_name": "ProgressView",
            "bar_style": "success",
            "description": "",
            "description_tooltip": null,
            "layout": "IPY_MODEL_3c1e9d7be3044d1fa36e0672785834b9",
            "max": 1401,
            "min": 0,
            "orientation": "horizontal",
            "style": "IPY_MODEL_925f66e8b9d64504bffc6b9cd2b29e82",
            "value": 1401
          }
        },
        "927843c3e07d465daf68455d76ec4b87": {
          "model_module": "@jupyter-widgets/controls",
          "model_name": "HTMLModel",
          "model_module_version": "1.5.0",
          "state": {
            "_dom_classes": [],
            "_model_module": "@jupyter-widgets/controls",
            "_model_module_version": "1.5.0",
            "_model_name": "HTMLModel",
            "_view_count": null,
            "_view_module": "@jupyter-widgets/controls",
            "_view_module_version": "1.5.0",
            "_view_name": "HTMLView",
            "description": "",
            "description_tooltip": null,
            "layout": "IPY_MODEL_39c808e960744d728e2b568336c3b5ba",
            "placeholder": "​",
            "style": "IPY_MODEL_3e5b90c19f0a4e31bed79399db28eaf3",
            "value": " 1.40k/1.40k [00:00&lt;00:00, 80.9kB/s]"
          }
        },
        "00cd2f25024a4542b492af59bb51c97b": {
          "model_module": "@jupyter-widgets/base",
          "model_name": "LayoutModel",
          "model_module_version": "1.2.0",
          "state": {
            "_model_module": "@jupyter-widgets/base",
            "_model_module_version": "1.2.0",
            "_model_name": "LayoutModel",
            "_view_count": null,
            "_view_module": "@jupyter-widgets/base",
            "_view_module_version": "1.2.0",
            "_view_name": "LayoutView",
            "align_content": null,
            "align_items": null,
            "align_self": null,
            "border": null,
            "bottom": null,
            "display": null,
            "flex": null,
            "flex_flow": null,
            "grid_area": null,
            "grid_auto_columns": null,
            "grid_auto_flow": null,
            "grid_auto_rows": null,
            "grid_column": null,
            "grid_gap": null,
            "grid_row": null,
            "grid_template_areas": null,
            "grid_template_columns": null,
            "grid_template_rows": null,
            "height": null,
            "justify_content": null,
            "justify_items": null,
            "left": null,
            "margin": null,
            "max_height": null,
            "max_width": null,
            "min_height": null,
            "min_width": null,
            "object_fit": null,
            "object_position": null,
            "order": null,
            "overflow": null,
            "overflow_x": null,
            "overflow_y": null,
            "padding": null,
            "right": null,
            "top": null,
            "visibility": null,
            "width": null
          }
        },
        "213d2eb3723c4fb1bbdd80de59fafe81": {
          "model_module": "@jupyter-widgets/base",
          "model_name": "LayoutModel",
          "model_module_version": "1.2.0",
          "state": {
            "_model_module": "@jupyter-widgets/base",
            "_model_module_version": "1.2.0",
            "_model_name": "LayoutModel",
            "_view_count": null,
            "_view_module": "@jupyter-widgets/base",
            "_view_module_version": "1.2.0",
            "_view_name": "LayoutView",
            "align_content": null,
            "align_items": null,
            "align_self": null,
            "border": null,
            "bottom": null,
            "display": null,
            "flex": null,
            "flex_flow": null,
            "grid_area": null,
            "grid_auto_columns": null,
            "grid_auto_flow": null,
            "grid_auto_rows": null,
            "grid_column": null,
            "grid_gap": null,
            "grid_row": null,
            "grid_template_areas": null,
            "grid_template_columns": null,
            "grid_template_rows": null,
            "height": null,
            "justify_content": null,
            "justify_items": null,
            "left": null,
            "margin": null,
            "max_height": null,
            "max_width": null,
            "min_height": null,
            "min_width": null,
            "object_fit": null,
            "object_position": null,
            "order": null,
            "overflow": null,
            "overflow_x": null,
            "overflow_y": null,
            "padding": null,
            "right": null,
            "top": null,
            "visibility": null,
            "width": null
          }
        },
        "330c8b791b9b4da78ba7b5e9c0c98f8d": {
          "model_module": "@jupyter-widgets/controls",
          "model_name": "DescriptionStyleModel",
          "model_module_version": "1.5.0",
          "state": {
            "_model_module": "@jupyter-widgets/controls",
            "_model_module_version": "1.5.0",
            "_model_name": "DescriptionStyleModel",
            "_view_count": null,
            "_view_module": "@jupyter-widgets/base",
            "_view_module_version": "1.2.0",
            "_view_name": "StyleView",
            "description_width": ""
          }
        },
        "3c1e9d7be3044d1fa36e0672785834b9": {
          "model_module": "@jupyter-widgets/base",
          "model_name": "LayoutModel",
          "model_module_version": "1.2.0",
          "state": {
            "_model_module": "@jupyter-widgets/base",
            "_model_module_version": "1.2.0",
            "_model_name": "LayoutModel",
            "_view_count": null,
            "_view_module": "@jupyter-widgets/base",
            "_view_module_version": "1.2.0",
            "_view_name": "LayoutView",
            "align_content": null,
            "align_items": null,
            "align_self": null,
            "border": null,
            "bottom": null,
            "display": null,
            "flex": null,
            "flex_flow": null,
            "grid_area": null,
            "grid_auto_columns": null,
            "grid_auto_flow": null,
            "grid_auto_rows": null,
            "grid_column": null,
            "grid_gap": null,
            "grid_row": null,
            "grid_template_areas": null,
            "grid_template_columns": null,
            "grid_template_rows": null,
            "height": null,
            "justify_content": null,
            "justify_items": null,
            "left": null,
            "margin": null,
            "max_height": null,
            "max_width": null,
            "min_height": null,
            "min_width": null,
            "object_fit": null,
            "object_position": null,
            "order": null,
            "overflow": null,
            "overflow_x": null,
            "overflow_y": null,
            "padding": null,
            "right": null,
            "top": null,
            "visibility": null,
            "width": null
          }
        },
        "925f66e8b9d64504bffc6b9cd2b29e82": {
          "model_module": "@jupyter-widgets/controls",
          "model_name": "ProgressStyleModel",
          "model_module_version": "1.5.0",
          "state": {
            "_model_module": "@jupyter-widgets/controls",
            "_model_module_version": "1.5.0",
            "_model_name": "ProgressStyleModel",
            "_view_count": null,
            "_view_module": "@jupyter-widgets/base",
            "_view_module_version": "1.2.0",
            "_view_name": "StyleView",
            "bar_color": null,
            "description_width": ""
          }
        },
        "39c808e960744d728e2b568336c3b5ba": {
          "model_module": "@jupyter-widgets/base",
          "model_name": "LayoutModel",
          "model_module_version": "1.2.0",
          "state": {
            "_model_module": "@jupyter-widgets/base",
            "_model_module_version": "1.2.0",
            "_model_name": "LayoutModel",
            "_view_count": null,
            "_view_module": "@jupyter-widgets/base",
            "_view_module_version": "1.2.0",
            "_view_name": "LayoutView",
            "align_content": null,
            "align_items": null,
            "align_self": null,
            "border": null,
            "bottom": null,
            "display": null,
            "flex": null,
            "flex_flow": null,
            "grid_area": null,
            "grid_auto_columns": null,
            "grid_auto_flow": null,
            "grid_auto_rows": null,
            "grid_column": null,
            "grid_gap": null,
            "grid_row": null,
            "grid_template_areas": null,
            "grid_template_columns": null,
            "grid_template_rows": null,
            "height": null,
            "justify_content": null,
            "justify_items": null,
            "left": null,
            "margin": null,
            "max_height": null,
            "max_width": null,
            "min_height": null,
            "min_width": null,
            "object_fit": null,
            "object_position": null,
            "order": null,
            "overflow": null,
            "overflow_x": null,
            "overflow_y": null,
            "padding": null,
            "right": null,
            "top": null,
            "visibility": null,
            "width": null
          }
        },
        "3e5b90c19f0a4e31bed79399db28eaf3": {
          "model_module": "@jupyter-widgets/controls",
          "model_name": "DescriptionStyleModel",
          "model_module_version": "1.5.0",
          "state": {
            "_model_module": "@jupyter-widgets/controls",
            "_model_module_version": "1.5.0",
            "_model_name": "DescriptionStyleModel",
            "_view_count": null,
            "_view_module": "@jupyter-widgets/base",
            "_view_module_version": "1.2.0",
            "_view_name": "StyleView",
            "description_width": ""
          }
        },
        "6a8d562d24b0447d9f27349e85ed5e0b": {
          "model_module": "@jupyter-widgets/controls",
          "model_name": "HBoxModel",
          "model_module_version": "1.5.0",
          "state": {
            "_dom_classes": [],
            "_model_module": "@jupyter-widgets/controls",
            "_model_module_version": "1.5.0",
            "_model_name": "HBoxModel",
            "_view_count": null,
            "_view_module": "@jupyter-widgets/controls",
            "_view_module_version": "1.5.0",
            "_view_name": "HBoxView",
            "box_style": "",
            "children": [
              "IPY_MODEL_aa287b970d2b423c8b0078006760c8a5",
              "IPY_MODEL_a4f1752ed6b14039894016bd29716a23",
              "IPY_MODEL_1ddee714a1464875b46abfd15b89e45f"
            ],
            "layout": "IPY_MODEL_c8467d13e4f74fb99b54089a17e777ff"
          }
        },
        "aa287b970d2b423c8b0078006760c8a5": {
          "model_module": "@jupyter-widgets/controls",
          "model_name": "HTMLModel",
          "model_module_version": "1.5.0",
          "state": {
            "_dom_classes": [],
            "_model_module": "@jupyter-widgets/controls",
            "_model_module_version": "1.5.0",
            "_model_name": "HTMLModel",
            "_view_count": null,
            "_view_module": "@jupyter-widgets/controls",
            "_view_module_version": "1.5.0",
            "_view_name": "HTMLView",
            "description": "",
            "description_tooltip": null,
            "layout": "IPY_MODEL_ae20920ff5344d699928b1d8cc6a7edb",
            "placeholder": "​",
            "style": "IPY_MODEL_db48aba4035047ffa7bcf2791863cfea",
            "value": "model.safetensors: 100%"
          }
        },
        "a4f1752ed6b14039894016bd29716a23": {
          "model_module": "@jupyter-widgets/controls",
          "model_name": "FloatProgressModel",
          "model_module_version": "1.5.0",
          "state": {
            "_dom_classes": [],
            "_model_module": "@jupyter-widgets/controls",
            "_model_module_version": "1.5.0",
            "_model_name": "FloatProgressModel",
            "_view_count": null,
            "_view_module": "@jupyter-widgets/controls",
            "_view_module_version": "1.5.0",
            "_view_name": "ProgressView",
            "bar_style": "success",
            "description": "",
            "description_tooltip": null,
            "layout": "IPY_MODEL_808e9ec0421b4493aa4be265085b6a90",
            "max": 307867048,
            "min": 0,
            "orientation": "horizontal",
            "style": "IPY_MODEL_21db823ce5034de69a505d87eff5869a",
            "value": 307867048
          }
        },
        "1ddee714a1464875b46abfd15b89e45f": {
          "model_module": "@jupyter-widgets/controls",
          "model_name": "HTMLModel",
          "model_module_version": "1.5.0",
          "state": {
            "_dom_classes": [],
            "_model_module": "@jupyter-widgets/controls",
            "_model_module_version": "1.5.0",
            "_model_name": "HTMLModel",
            "_view_count": null,
            "_view_module": "@jupyter-widgets/controls",
            "_view_module_version": "1.5.0",
            "_view_name": "HTMLView",
            "description": "",
            "description_tooltip": null,
            "layout": "IPY_MODEL_c3466107374d40309dce74def8e62040",
            "placeholder": "​",
            "style": "IPY_MODEL_7a9d3027fb4e43b483efb46781c05af1",
            "value": " 308M/308M [00:03&lt;00:00, 98.6MB/s]"
          }
        },
        "c8467d13e4f74fb99b54089a17e777ff": {
          "model_module": "@jupyter-widgets/base",
          "model_name": "LayoutModel",
          "model_module_version": "1.2.0",
          "state": {
            "_model_module": "@jupyter-widgets/base",
            "_model_module_version": "1.2.0",
            "_model_name": "LayoutModel",
            "_view_count": null,
            "_view_module": "@jupyter-widgets/base",
            "_view_module_version": "1.2.0",
            "_view_name": "LayoutView",
            "align_content": null,
            "align_items": null,
            "align_self": null,
            "border": null,
            "bottom": null,
            "display": null,
            "flex": null,
            "flex_flow": null,
            "grid_area": null,
            "grid_auto_columns": null,
            "grid_auto_flow": null,
            "grid_auto_rows": null,
            "grid_column": null,
            "grid_gap": null,
            "grid_row": null,
            "grid_template_areas": null,
            "grid_template_columns": null,
            "grid_template_rows": null,
            "height": null,
            "justify_content": null,
            "justify_items": null,
            "left": null,
            "margin": null,
            "max_height": null,
            "max_width": null,
            "min_height": null,
            "min_width": null,
            "object_fit": null,
            "object_position": null,
            "order": null,
            "overflow": null,
            "overflow_x": null,
            "overflow_y": null,
            "padding": null,
            "right": null,
            "top": null,
            "visibility": null,
            "width": null
          }
        },
        "ae20920ff5344d699928b1d8cc6a7edb": {
          "model_module": "@jupyter-widgets/base",
          "model_name": "LayoutModel",
          "model_module_version": "1.2.0",
          "state": {
            "_model_module": "@jupyter-widgets/base",
            "_model_module_version": "1.2.0",
            "_model_name": "LayoutModel",
            "_view_count": null,
            "_view_module": "@jupyter-widgets/base",
            "_view_module_version": "1.2.0",
            "_view_name": "LayoutView",
            "align_content": null,
            "align_items": null,
            "align_self": null,
            "border": null,
            "bottom": null,
            "display": null,
            "flex": null,
            "flex_flow": null,
            "grid_area": null,
            "grid_auto_columns": null,
            "grid_auto_flow": null,
            "grid_auto_rows": null,
            "grid_column": null,
            "grid_gap": null,
            "grid_row": null,
            "grid_template_areas": null,
            "grid_template_columns": null,
            "grid_template_rows": null,
            "height": null,
            "justify_content": null,
            "justify_items": null,
            "left": null,
            "margin": null,
            "max_height": null,
            "max_width": null,
            "min_height": null,
            "min_width": null,
            "object_fit": null,
            "object_position": null,
            "order": null,
            "overflow": null,
            "overflow_x": null,
            "overflow_y": null,
            "padding": null,
            "right": null,
            "top": null,
            "visibility": null,
            "width": null
          }
        },
        "db48aba4035047ffa7bcf2791863cfea": {
          "model_module": "@jupyter-widgets/controls",
          "model_name": "DescriptionStyleModel",
          "model_module_version": "1.5.0",
          "state": {
            "_model_module": "@jupyter-widgets/controls",
            "_model_module_version": "1.5.0",
            "_model_name": "DescriptionStyleModel",
            "_view_count": null,
            "_view_module": "@jupyter-widgets/base",
            "_view_module_version": "1.2.0",
            "_view_name": "StyleView",
            "description_width": ""
          }
        },
        "808e9ec0421b4493aa4be265085b6a90": {
          "model_module": "@jupyter-widgets/base",
          "model_name": "LayoutModel",
          "model_module_version": "1.2.0",
          "state": {
            "_model_module": "@jupyter-widgets/base",
            "_model_module_version": "1.2.0",
            "_model_name": "LayoutModel",
            "_view_count": null,
            "_view_module": "@jupyter-widgets/base",
            "_view_module_version": "1.2.0",
            "_view_name": "LayoutView",
            "align_content": null,
            "align_items": null,
            "align_self": null,
            "border": null,
            "bottom": null,
            "display": null,
            "flex": null,
            "flex_flow": null,
            "grid_area": null,
            "grid_auto_columns": null,
            "grid_auto_flow": null,
            "grid_auto_rows": null,
            "grid_column": null,
            "grid_gap": null,
            "grid_row": null,
            "grid_template_areas": null,
            "grid_template_columns": null,
            "grid_template_rows": null,
            "height": null,
            "justify_content": null,
            "justify_items": null,
            "left": null,
            "margin": null,
            "max_height": null,
            "max_width": null,
            "min_height": null,
            "min_width": null,
            "object_fit": null,
            "object_position": null,
            "order": null,
            "overflow": null,
            "overflow_x": null,
            "overflow_y": null,
            "padding": null,
            "right": null,
            "top": null,
            "visibility": null,
            "width": null
          }
        },
        "21db823ce5034de69a505d87eff5869a": {
          "model_module": "@jupyter-widgets/controls",
          "model_name": "ProgressStyleModel",
          "model_module_version": "1.5.0",
          "state": {
            "_model_module": "@jupyter-widgets/controls",
            "_model_module_version": "1.5.0",
            "_model_name": "ProgressStyleModel",
            "_view_count": null,
            "_view_module": "@jupyter-widgets/base",
            "_view_module_version": "1.2.0",
            "_view_name": "StyleView",
            "bar_color": null,
            "description_width": ""
          }
        },
        "c3466107374d40309dce74def8e62040": {
          "model_module": "@jupyter-widgets/base",
          "model_name": "LayoutModel",
          "model_module_version": "1.2.0",
          "state": {
            "_model_module": "@jupyter-widgets/base",
            "_model_module_version": "1.2.0",
            "_model_name": "LayoutModel",
            "_view_count": null,
            "_view_module": "@jupyter-widgets/base",
            "_view_module_version": "1.2.0",
            "_view_name": "LayoutView",
            "align_content": null,
            "align_items": null,
            "align_self": null,
            "border": null,
            "bottom": null,
            "display": null,
            "flex": null,
            "flex_flow": null,
            "grid_area": null,
            "grid_auto_columns": null,
            "grid_auto_flow": null,
            "grid_auto_rows": null,
            "grid_column": null,
            "grid_gap": null,
            "grid_row": null,
            "grid_template_areas": null,
            "grid_template_columns": null,
            "grid_template_rows": null,
            "height": null,
            "justify_content": null,
            "justify_items": null,
            "left": null,
            "margin": null,
            "max_height": null,
            "max_width": null,
            "min_height": null,
            "min_width": null,
            "object_fit": null,
            "object_position": null,
            "order": null,
            "overflow": null,
            "overflow_x": null,
            "overflow_y": null,
            "padding": null,
            "right": null,
            "top": null,
            "visibility": null,
            "width": null
          }
        },
        "7a9d3027fb4e43b483efb46781c05af1": {
          "model_module": "@jupyter-widgets/controls",
          "model_name": "DescriptionStyleModel",
          "model_module_version": "1.5.0",
          "state": {
            "_model_module": "@jupyter-widgets/controls",
            "_model_module_version": "1.5.0",
            "_model_name": "DescriptionStyleModel",
            "_view_count": null,
            "_view_module": "@jupyter-widgets/base",
            "_view_module_version": "1.2.0",
            "_view_name": "StyleView",
            "description_width": ""
          }
        },
        "6514e667e0d743b59356deff62fd59ad": {
          "model_module": "@jupyter-widgets/controls",
          "model_name": "HBoxModel",
          "model_module_version": "1.5.0",
          "state": {
            "_dom_classes": [],
            "_model_module": "@jupyter-widgets/controls",
            "_model_module_version": "1.5.0",
            "_model_name": "HBoxModel",
            "_view_count": null,
            "_view_module": "@jupyter-widgets/controls",
            "_view_module_version": "1.5.0",
            "_view_name": "HBoxView",
            "box_style": "",
            "children": [
              "IPY_MODEL_4cbc7d75811b45a4a2bd3922f645f49a",
              "IPY_MODEL_d3a86caabf504ab9b75228af6ac82198",
              "IPY_MODEL_a4de1878de4441a3974fc14162d7bc2b"
            ],
            "layout": "IPY_MODEL_0de1f7892c21484e9a86af8dacea6874"
          }
        },
        "4cbc7d75811b45a4a2bd3922f645f49a": {
          "model_module": "@jupyter-widgets/controls",
          "model_name": "HTMLModel",
          "model_module_version": "1.5.0",
          "state": {
            "_dom_classes": [],
            "_model_module": "@jupyter-widgets/controls",
            "_model_module_version": "1.5.0",
            "_model_name": "HTMLModel",
            "_view_count": null,
            "_view_module": "@jupyter-widgets/controls",
            "_view_module_version": "1.5.0",
            "_view_name": "HTMLView",
            "description": "",
            "description_tooltip": null,
            "layout": "IPY_MODEL_ccd5fa165a8e4b13bee0a8575f0513c2",
            "placeholder": "​",
            "style": "IPY_MODEL_7179f915a4a34306b3c127991fe4c30a",
            "value": "generation_config.json: 100%"
          }
        },
        "d3a86caabf504ab9b75228af6ac82198": {
          "model_module": "@jupyter-widgets/controls",
          "model_name": "FloatProgressModel",
          "model_module_version": "1.5.0",
          "state": {
            "_dom_classes": [],
            "_model_module": "@jupyter-widgets/controls",
            "_model_module_version": "1.5.0",
            "_model_name": "FloatProgressModel",
            "_view_count": null,
            "_view_module": "@jupyter-widgets/controls",
            "_view_module_version": "1.5.0",
            "_view_name": "ProgressView",
            "bar_style": "success",
            "description": "",
            "description_tooltip": null,
            "layout": "IPY_MODEL_ccf4dc7005d34251936ec24d14b78f95",
            "max": 147,
            "min": 0,
            "orientation": "horizontal",
            "style": "IPY_MODEL_b84a4df767cc4ce28deaf642c87b41c3",
            "value": 147
          }
        },
        "a4de1878de4441a3974fc14162d7bc2b": {
          "model_module": "@jupyter-widgets/controls",
          "model_name": "HTMLModel",
          "model_module_version": "1.5.0",
          "state": {
            "_dom_classes": [],
            "_model_module": "@jupyter-widgets/controls",
            "_model_module_version": "1.5.0",
            "_model_name": "HTMLModel",
            "_view_count": null,
            "_view_module": "@jupyter-widgets/controls",
            "_view_module_version": "1.5.0",
            "_view_name": "HTMLView",
            "description": "",
            "description_tooltip": null,
            "layout": "IPY_MODEL_80617bebc388495780f6b93a85bd2723",
            "placeholder": "​",
            "style": "IPY_MODEL_d27fc641f26e41d2afcdb8e57356853c",
            "value": " 147/147 [00:00&lt;00:00, 8.68kB/s]"
          }
        },
        "0de1f7892c21484e9a86af8dacea6874": {
          "model_module": "@jupyter-widgets/base",
          "model_name": "LayoutModel",
          "model_module_version": "1.2.0",
          "state": {
            "_model_module": "@jupyter-widgets/base",
            "_model_module_version": "1.2.0",
            "_model_name": "LayoutModel",
            "_view_count": null,
            "_view_module": "@jupyter-widgets/base",
            "_view_module_version": "1.2.0",
            "_view_name": "LayoutView",
            "align_content": null,
            "align_items": null,
            "align_self": null,
            "border": null,
            "bottom": null,
            "display": null,
            "flex": null,
            "flex_flow": null,
            "grid_area": null,
            "grid_auto_columns": null,
            "grid_auto_flow": null,
            "grid_auto_rows": null,
            "grid_column": null,
            "grid_gap": null,
            "grid_row": null,
            "grid_template_areas": null,
            "grid_template_columns": null,
            "grid_template_rows": null,
            "height": null,
            "justify_content": null,
            "justify_items": null,
            "left": null,
            "margin": null,
            "max_height": null,
            "max_width": null,
            "min_height": null,
            "min_width": null,
            "object_fit": null,
            "object_position": null,
            "order": null,
            "overflow": null,
            "overflow_x": null,
            "overflow_y": null,
            "padding": null,
            "right": null,
            "top": null,
            "visibility": null,
            "width": null
          }
        },
        "ccd5fa165a8e4b13bee0a8575f0513c2": {
          "model_module": "@jupyter-widgets/base",
          "model_name": "LayoutModel",
          "model_module_version": "1.2.0",
          "state": {
            "_model_module": "@jupyter-widgets/base",
            "_model_module_version": "1.2.0",
            "_model_name": "LayoutModel",
            "_view_count": null,
            "_view_module": "@jupyter-widgets/base",
            "_view_module_version": "1.2.0",
            "_view_name": "LayoutView",
            "align_content": null,
            "align_items": null,
            "align_self": null,
            "border": null,
            "bottom": null,
            "display": null,
            "flex": null,
            "flex_flow": null,
            "grid_area": null,
            "grid_auto_columns": null,
            "grid_auto_flow": null,
            "grid_auto_rows": null,
            "grid_column": null,
            "grid_gap": null,
            "grid_row": null,
            "grid_template_areas": null,
            "grid_template_columns": null,
            "grid_template_rows": null,
            "height": null,
            "justify_content": null,
            "justify_items": null,
            "left": null,
            "margin": null,
            "max_height": null,
            "max_width": null,
            "min_height": null,
            "min_width": null,
            "object_fit": null,
            "object_position": null,
            "order": null,
            "overflow": null,
            "overflow_x": null,
            "overflow_y": null,
            "padding": null,
            "right": null,
            "top": null,
            "visibility": null,
            "width": null
          }
        },
        "7179f915a4a34306b3c127991fe4c30a": {
          "model_module": "@jupyter-widgets/controls",
          "model_name": "DescriptionStyleModel",
          "model_module_version": "1.5.0",
          "state": {
            "_model_module": "@jupyter-widgets/controls",
            "_model_module_version": "1.5.0",
            "_model_name": "DescriptionStyleModel",
            "_view_count": null,
            "_view_module": "@jupyter-widgets/base",
            "_view_module_version": "1.2.0",
            "_view_name": "StyleView",
            "description_width": ""
          }
        },
        "ccf4dc7005d34251936ec24d14b78f95": {
          "model_module": "@jupyter-widgets/base",
          "model_name": "LayoutModel",
          "model_module_version": "1.2.0",
          "state": {
            "_model_module": "@jupyter-widgets/base",
            "_model_module_version": "1.2.0",
            "_model_name": "LayoutModel",
            "_view_count": null,
            "_view_module": "@jupyter-widgets/base",
            "_view_module_version": "1.2.0",
            "_view_name": "LayoutView",
            "align_content": null,
            "align_items": null,
            "align_self": null,
            "border": null,
            "bottom": null,
            "display": null,
            "flex": null,
            "flex_flow": null,
            "grid_area": null,
            "grid_auto_columns": null,
            "grid_auto_flow": null,
            "grid_auto_rows": null,
            "grid_column": null,
            "grid_gap": null,
            "grid_row": null,
            "grid_template_areas": null,
            "grid_template_columns": null,
            "grid_template_rows": null,
            "height": null,
            "justify_content": null,
            "justify_items": null,
            "left": null,
            "margin": null,
            "max_height": null,
            "max_width": null,
            "min_height": null,
            "min_width": null,
            "object_fit": null,
            "object_position": null,
            "order": null,
            "overflow": null,
            "overflow_x": null,
            "overflow_y": null,
            "padding": null,
            "right": null,
            "top": null,
            "visibility": null,
            "width": null
          }
        },
        "b84a4df767cc4ce28deaf642c87b41c3": {
          "model_module": "@jupyter-widgets/controls",
          "model_name": "ProgressStyleModel",
          "model_module_version": "1.5.0",
          "state": {
            "_model_module": "@jupyter-widgets/controls",
            "_model_module_version": "1.5.0",
            "_model_name": "ProgressStyleModel",
            "_view_count": null,
            "_view_module": "@jupyter-widgets/base",
            "_view_module_version": "1.2.0",
            "_view_name": "StyleView",
            "bar_color": null,
            "description_width": ""
          }
        },
        "80617bebc388495780f6b93a85bd2723": {
          "model_module": "@jupyter-widgets/base",
          "model_name": "LayoutModel",
          "model_module_version": "1.2.0",
          "state": {
            "_model_module": "@jupyter-widgets/base",
            "_model_module_version": "1.2.0",
            "_model_name": "LayoutModel",
            "_view_count": null,
            "_view_module": "@jupyter-widgets/base",
            "_view_module_version": "1.2.0",
            "_view_name": "LayoutView",
            "align_content": null,
            "align_items": null,
            "align_self": null,
            "border": null,
            "bottom": null,
            "display": null,
            "flex": null,
            "flex_flow": null,
            "grid_area": null,
            "grid_auto_columns": null,
            "grid_auto_flow": null,
            "grid_auto_rows": null,
            "grid_column": null,
            "grid_gap": null,
            "grid_row": null,
            "grid_template_areas": null,
            "grid_template_columns": null,
            "grid_template_rows": null,
            "height": null,
            "justify_content": null,
            "justify_items": null,
            "left": null,
            "margin": null,
            "max_height": null,
            "max_width": null,
            "min_height": null,
            "min_width": null,
            "object_fit": null,
            "object_position": null,
            "order": null,
            "overflow": null,
            "overflow_x": null,
            "overflow_y": null,
            "padding": null,
            "right": null,
            "top": null,
            "visibility": null,
            "width": null
          }
        },
        "d27fc641f26e41d2afcdb8e57356853c": {
          "model_module": "@jupyter-widgets/controls",
          "model_name": "DescriptionStyleModel",
          "model_module_version": "1.5.0",
          "state": {
            "_model_module": "@jupyter-widgets/controls",
            "_model_module_version": "1.5.0",
            "_model_name": "DescriptionStyleModel",
            "_view_count": null,
            "_view_module": "@jupyter-widgets/base",
            "_view_module_version": "1.2.0",
            "_view_name": "StyleView",
            "description_width": ""
          }
        },
        "4f3bb38e551e4958b43f317a6ef80b55": {
          "model_module": "@jupyter-widgets/controls",
          "model_name": "HBoxModel",
          "model_module_version": "1.5.0",
          "state": {
            "_dom_classes": [],
            "_model_module": "@jupyter-widgets/controls",
            "_model_module_version": "1.5.0",
            "_model_name": "HBoxModel",
            "_view_count": null,
            "_view_module": "@jupyter-widgets/controls",
            "_view_module_version": "1.5.0",
            "_view_name": "HBoxView",
            "box_style": "",
            "children": [
              "IPY_MODEL_4047d40726434aa086d8d648f1f6a30f",
              "IPY_MODEL_e38b281afebf49d5ad61751663168ba4",
              "IPY_MODEL_58d88d9f731840f7a543bb9e484adfa1"
            ],
            "layout": "IPY_MODEL_c3ea3c0737bb420ab7846482ab636863"
          }
        },
        "4047d40726434aa086d8d648f1f6a30f": {
          "model_module": "@jupyter-widgets/controls",
          "model_name": "HTMLModel",
          "model_module_version": "1.5.0",
          "state": {
            "_dom_classes": [],
            "_model_module": "@jupyter-widgets/controls",
            "_model_module_version": "1.5.0",
            "_model_name": "HTMLModel",
            "_view_count": null,
            "_view_module": "@jupyter-widgets/controls",
            "_view_module_version": "1.5.0",
            "_view_name": "HTMLView",
            "description": "",
            "description_tooltip": null,
            "layout": "IPY_MODEL_628b14030b784f7ea419cd865edc41cd",
            "placeholder": "​",
            "style": "IPY_MODEL_fd22251fff3d4cd5a1b8920c581ec55a",
            "value": "tokenizer_config.json: 100%"
          }
        },
        "e38b281afebf49d5ad61751663168ba4": {
          "model_module": "@jupyter-widgets/controls",
          "model_name": "FloatProgressModel",
          "model_module_version": "1.5.0",
          "state": {
            "_dom_classes": [],
            "_model_module": "@jupyter-widgets/controls",
            "_model_module_version": "1.5.0",
            "_model_name": "FloatProgressModel",
            "_view_count": null,
            "_view_module": "@jupyter-widgets/controls",
            "_view_module_version": "1.5.0",
            "_view_name": "ProgressView",
            "bar_style": "success",
            "description": "",
            "description_tooltip": null,
            "layout": "IPY_MODEL_ba8576b097384d14b814e7ced16e02d1",
            "max": 2539,
            "min": 0,
            "orientation": "horizontal",
            "style": "IPY_MODEL_a4a7a2abc50a4a75a6807dde909a69e6",
            "value": 2539
          }
        },
        "58d88d9f731840f7a543bb9e484adfa1": {
          "model_module": "@jupyter-widgets/controls",
          "model_name": "HTMLModel",
          "model_module_version": "1.5.0",
          "state": {
            "_dom_classes": [],
            "_model_module": "@jupyter-widgets/controls",
            "_model_module_version": "1.5.0",
            "_model_name": "HTMLModel",
            "_view_count": null,
            "_view_module": "@jupyter-widgets/controls",
            "_view_module_version": "1.5.0",
            "_view_name": "HTMLView",
            "description": "",
            "description_tooltip": null,
            "layout": "IPY_MODEL_79470d2c3fec4330a0f42ff599f876f1",
            "placeholder": "​",
            "style": "IPY_MODEL_09b849f08eb94552b3ee5c93fa46c77b",
            "value": " 2.54k/2.54k [00:00&lt;00:00, 202kB/s]"
          }
        },
        "c3ea3c0737bb420ab7846482ab636863": {
          "model_module": "@jupyter-widgets/base",
          "model_name": "LayoutModel",
          "model_module_version": "1.2.0",
          "state": {
            "_model_module": "@jupyter-widgets/base",
            "_model_module_version": "1.2.0",
            "_model_name": "LayoutModel",
            "_view_count": null,
            "_view_module": "@jupyter-widgets/base",
            "_view_module_version": "1.2.0",
            "_view_name": "LayoutView",
            "align_content": null,
            "align_items": null,
            "align_self": null,
            "border": null,
            "bottom": null,
            "display": null,
            "flex": null,
            "flex_flow": null,
            "grid_area": null,
            "grid_auto_columns": null,
            "grid_auto_flow": null,
            "grid_auto_rows": null,
            "grid_column": null,
            "grid_gap": null,
            "grid_row": null,
            "grid_template_areas": null,
            "grid_template_columns": null,
            "grid_template_rows": null,
            "height": null,
            "justify_content": null,
            "justify_items": null,
            "left": null,
            "margin": null,
            "max_height": null,
            "max_width": null,
            "min_height": null,
            "min_width": null,
            "object_fit": null,
            "object_position": null,
            "order": null,
            "overflow": null,
            "overflow_x": null,
            "overflow_y": null,
            "padding": null,
            "right": null,
            "top": null,
            "visibility": null,
            "width": null
          }
        },
        "628b14030b784f7ea419cd865edc41cd": {
          "model_module": "@jupyter-widgets/base",
          "model_name": "LayoutModel",
          "model_module_version": "1.2.0",
          "state": {
            "_model_module": "@jupyter-widgets/base",
            "_model_module_version": "1.2.0",
            "_model_name": "LayoutModel",
            "_view_count": null,
            "_view_module": "@jupyter-widgets/base",
            "_view_module_version": "1.2.0",
            "_view_name": "LayoutView",
            "align_content": null,
            "align_items": null,
            "align_self": null,
            "border": null,
            "bottom": null,
            "display": null,
            "flex": null,
            "flex_flow": null,
            "grid_area": null,
            "grid_auto_columns": null,
            "grid_auto_flow": null,
            "grid_auto_rows": null,
            "grid_column": null,
            "grid_gap": null,
            "grid_row": null,
            "grid_template_areas": null,
            "grid_template_columns": null,
            "grid_template_rows": null,
            "height": null,
            "justify_content": null,
            "justify_items": null,
            "left": null,
            "margin": null,
            "max_height": null,
            "max_width": null,
            "min_height": null,
            "min_width": null,
            "object_fit": null,
            "object_position": null,
            "order": null,
            "overflow": null,
            "overflow_x": null,
            "overflow_y": null,
            "padding": null,
            "right": null,
            "top": null,
            "visibility": null,
            "width": null
          }
        },
        "fd22251fff3d4cd5a1b8920c581ec55a": {
          "model_module": "@jupyter-widgets/controls",
          "model_name": "DescriptionStyleModel",
          "model_module_version": "1.5.0",
          "state": {
            "_model_module": "@jupyter-widgets/controls",
            "_model_module_version": "1.5.0",
            "_model_name": "DescriptionStyleModel",
            "_view_count": null,
            "_view_module": "@jupyter-widgets/base",
            "_view_module_version": "1.2.0",
            "_view_name": "StyleView",
            "description_width": ""
          }
        },
        "ba8576b097384d14b814e7ced16e02d1": {
          "model_module": "@jupyter-widgets/base",
          "model_name": "LayoutModel",
          "model_module_version": "1.2.0",
          "state": {
            "_model_module": "@jupyter-widgets/base",
            "_model_module_version": "1.2.0",
            "_model_name": "LayoutModel",
            "_view_count": null,
            "_view_module": "@jupyter-widgets/base",
            "_view_module_version": "1.2.0",
            "_view_name": "LayoutView",
            "align_content": null,
            "align_items": null,
            "align_self": null,
            "border": null,
            "bottom": null,
            "display": null,
            "flex": null,
            "flex_flow": null,
            "grid_area": null,
            "grid_auto_columns": null,
            "grid_auto_flow": null,
            "grid_auto_rows": null,
            "grid_column": null,
            "grid_gap": null,
            "grid_row": null,
            "grid_template_areas": null,
            "grid_template_columns": null,
            "grid_template_rows": null,
            "height": null,
            "justify_content": null,
            "justify_items": null,
            "left": null,
            "margin": null,
            "max_height": null,
            "max_width": null,
            "min_height": null,
            "min_width": null,
            "object_fit": null,
            "object_position": null,
            "order": null,
            "overflow": null,
            "overflow_x": null,
            "overflow_y": null,
            "padding": null,
            "right": null,
            "top": null,
            "visibility": null,
            "width": null
          }
        },
        "a4a7a2abc50a4a75a6807dde909a69e6": {
          "model_module": "@jupyter-widgets/controls",
          "model_name": "ProgressStyleModel",
          "model_module_version": "1.5.0",
          "state": {
            "_model_module": "@jupyter-widgets/controls",
            "_model_module_version": "1.5.0",
            "_model_name": "ProgressStyleModel",
            "_view_count": null,
            "_view_module": "@jupyter-widgets/base",
            "_view_module_version": "1.2.0",
            "_view_name": "StyleView",
            "bar_color": null,
            "description_width": ""
          }
        },
        "79470d2c3fec4330a0f42ff599f876f1": {
          "model_module": "@jupyter-widgets/base",
          "model_name": "LayoutModel",
          "model_module_version": "1.2.0",
          "state": {
            "_model_module": "@jupyter-widgets/base",
            "_model_module_version": "1.2.0",
            "_model_name": "LayoutModel",
            "_view_count": null,
            "_view_module": "@jupyter-widgets/base",
            "_view_module_version": "1.2.0",
            "_view_name": "LayoutView",
            "align_content": null,
            "align_items": null,
            "align_self": null,
            "border": null,
            "bottom": null,
            "display": null,
            "flex": null,
            "flex_flow": null,
            "grid_area": null,
            "grid_auto_columns": null,
            "grid_auto_flow": null,
            "grid_auto_rows": null,
            "grid_column": null,
            "grid_gap": null,
            "grid_row": null,
            "grid_template_areas": null,
            "grid_template_columns": null,
            "grid_template_rows": null,
            "height": null,
            "justify_content": null,
            "justify_items": null,
            "left": null,
            "margin": null,
            "max_height": null,
            "max_width": null,
            "min_height": null,
            "min_width": null,
            "object_fit": null,
            "object_position": null,
            "order": null,
            "overflow": null,
            "overflow_x": null,
            "overflow_y": null,
            "padding": null,
            "right": null,
            "top": null,
            "visibility": null,
            "width": null
          }
        },
        "09b849f08eb94552b3ee5c93fa46c77b": {
          "model_module": "@jupyter-widgets/controls",
          "model_name": "DescriptionStyleModel",
          "model_module_version": "1.5.0",
          "state": {
            "_model_module": "@jupyter-widgets/controls",
            "_model_module_version": "1.5.0",
            "_model_name": "DescriptionStyleModel",
            "_view_count": null,
            "_view_module": "@jupyter-widgets/base",
            "_view_module_version": "1.2.0",
            "_view_name": "StyleView",
            "description_width": ""
          }
        },
        "177abeb72df54d95ab677b244b565d26": {
          "model_module": "@jupyter-widgets/controls",
          "model_name": "HBoxModel",
          "model_module_version": "1.5.0",
          "state": {
            "_dom_classes": [],
            "_model_module": "@jupyter-widgets/controls",
            "_model_module_version": "1.5.0",
            "_model_name": "HBoxModel",
            "_view_count": null,
            "_view_module": "@jupyter-widgets/controls",
            "_view_module_version": "1.5.0",
            "_view_name": "HBoxView",
            "box_style": "",
            "children": [
              "IPY_MODEL_b7cccf8bdf874157bf3b2ccf4ede3345",
              "IPY_MODEL_c9b97f7ad8d3438988dd85577b079b99",
              "IPY_MODEL_555a90b16bfe4061b413991cc3c18cdd"
            ],
            "layout": "IPY_MODEL_4ed04076acbb4134a2b7216f575c2fad"
          }
        },
        "b7cccf8bdf874157bf3b2ccf4ede3345": {
          "model_module": "@jupyter-widgets/controls",
          "model_name": "HTMLModel",
          "model_module_version": "1.5.0",
          "state": {
            "_dom_classes": [],
            "_model_module": "@jupyter-widgets/controls",
            "_model_module_version": "1.5.0",
            "_model_name": "HTMLModel",
            "_view_count": null,
            "_view_module": "@jupyter-widgets/controls",
            "_view_module_version": "1.5.0",
            "_view_name": "HTMLView",
            "description": "",
            "description_tooltip": null,
            "layout": "IPY_MODEL_be25530271ea4037b6b87d6e2df699cf",
            "placeholder": "​",
            "style": "IPY_MODEL_888c782338db447cad39ff6a3d178d3a",
            "value": "spiece.model: 100%"
          }
        },
        "c9b97f7ad8d3438988dd85577b079b99": {
          "model_module": "@jupyter-widgets/controls",
          "model_name": "FloatProgressModel",
          "model_module_version": "1.5.0",
          "state": {
            "_dom_classes": [],
            "_model_module": "@jupyter-widgets/controls",
            "_model_module_version": "1.5.0",
            "_model_name": "FloatProgressModel",
            "_view_count": null,
            "_view_module": "@jupyter-widgets/controls",
            "_view_module_version": "1.5.0",
            "_view_name": "ProgressView",
            "bar_style": "success",
            "description": "",
            "description_tooltip": null,
            "layout": "IPY_MODEL_3380d541139a4aa187ba8fe72f2976df",
            "max": 791656,
            "min": 0,
            "orientation": "horizontal",
            "style": "IPY_MODEL_6c7dd850c5614aaeaef791981f415b8f",
            "value": 791656
          }
        },
        "555a90b16bfe4061b413991cc3c18cdd": {
          "model_module": "@jupyter-widgets/controls",
          "model_name": "HTMLModel",
          "model_module_version": "1.5.0",
          "state": {
            "_dom_classes": [],
            "_model_module": "@jupyter-widgets/controls",
            "_model_module_version": "1.5.0",
            "_model_name": "HTMLModel",
            "_view_count": null,
            "_view_module": "@jupyter-widgets/controls",
            "_view_module_version": "1.5.0",
            "_view_name": "HTMLView",
            "description": "",
            "description_tooltip": null,
            "layout": "IPY_MODEL_9bac2a5efdca45b49e2b27884e894990",
            "placeholder": "​",
            "style": "IPY_MODEL_98a6ba19c8ea4e0c89aaf8581649ee4c",
            "value": " 792k/792k [00:00&lt;00:00, 29.7MB/s]"
          }
        },
        "4ed04076acbb4134a2b7216f575c2fad": {
          "model_module": "@jupyter-widgets/base",
          "model_name": "LayoutModel",
          "model_module_version": "1.2.0",
          "state": {
            "_model_module": "@jupyter-widgets/base",
            "_model_module_version": "1.2.0",
            "_model_name": "LayoutModel",
            "_view_count": null,
            "_view_module": "@jupyter-widgets/base",
            "_view_module_version": "1.2.0",
            "_view_name": "LayoutView",
            "align_content": null,
            "align_items": null,
            "align_self": null,
            "border": null,
            "bottom": null,
            "display": null,
            "flex": null,
            "flex_flow": null,
            "grid_area": null,
            "grid_auto_columns": null,
            "grid_auto_flow": null,
            "grid_auto_rows": null,
            "grid_column": null,
            "grid_gap": null,
            "grid_row": null,
            "grid_template_areas": null,
            "grid_template_columns": null,
            "grid_template_rows": null,
            "height": null,
            "justify_content": null,
            "justify_items": null,
            "left": null,
            "margin": null,
            "max_height": null,
            "max_width": null,
            "min_height": null,
            "min_width": null,
            "object_fit": null,
            "object_position": null,
            "order": null,
            "overflow": null,
            "overflow_x": null,
            "overflow_y": null,
            "padding": null,
            "right": null,
            "top": null,
            "visibility": null,
            "width": null
          }
        },
        "be25530271ea4037b6b87d6e2df699cf": {
          "model_module": "@jupyter-widgets/base",
          "model_name": "LayoutModel",
          "model_module_version": "1.2.0",
          "state": {
            "_model_module": "@jupyter-widgets/base",
            "_model_module_version": "1.2.0",
            "_model_name": "LayoutModel",
            "_view_count": null,
            "_view_module": "@jupyter-widgets/base",
            "_view_module_version": "1.2.0",
            "_view_name": "LayoutView",
            "align_content": null,
            "align_items": null,
            "align_self": null,
            "border": null,
            "bottom": null,
            "display": null,
            "flex": null,
            "flex_flow": null,
            "grid_area": null,
            "grid_auto_columns": null,
            "grid_auto_flow": null,
            "grid_auto_rows": null,
            "grid_column": null,
            "grid_gap": null,
            "grid_row": null,
            "grid_template_areas": null,
            "grid_template_columns": null,
            "grid_template_rows": null,
            "height": null,
            "justify_content": null,
            "justify_items": null,
            "left": null,
            "margin": null,
            "max_height": null,
            "max_width": null,
            "min_height": null,
            "min_width": null,
            "object_fit": null,
            "object_position": null,
            "order": null,
            "overflow": null,
            "overflow_x": null,
            "overflow_y": null,
            "padding": null,
            "right": null,
            "top": null,
            "visibility": null,
            "width": null
          }
        },
        "888c782338db447cad39ff6a3d178d3a": {
          "model_module": "@jupyter-widgets/controls",
          "model_name": "DescriptionStyleModel",
          "model_module_version": "1.5.0",
          "state": {
            "_model_module": "@jupyter-widgets/controls",
            "_model_module_version": "1.5.0",
            "_model_name": "DescriptionStyleModel",
            "_view_count": null,
            "_view_module": "@jupyter-widgets/base",
            "_view_module_version": "1.2.0",
            "_view_name": "StyleView",
            "description_width": ""
          }
        },
        "3380d541139a4aa187ba8fe72f2976df": {
          "model_module": "@jupyter-widgets/base",
          "model_name": "LayoutModel",
          "model_module_version": "1.2.0",
          "state": {
            "_model_module": "@jupyter-widgets/base",
            "_model_module_version": "1.2.0",
            "_model_name": "LayoutModel",
            "_view_count": null,
            "_view_module": "@jupyter-widgets/base",
            "_view_module_version": "1.2.0",
            "_view_name": "LayoutView",
            "align_content": null,
            "align_items": null,
            "align_self": null,
            "border": null,
            "bottom": null,
            "display": null,
            "flex": null,
            "flex_flow": null,
            "grid_area": null,
            "grid_auto_columns": null,
            "grid_auto_flow": null,
            "grid_auto_rows": null,
            "grid_column": null,
            "grid_gap": null,
            "grid_row": null,
            "grid_template_areas": null,
            "grid_template_columns": null,
            "grid_template_rows": null,
            "height": null,
            "justify_content": null,
            "justify_items": null,
            "left": null,
            "margin": null,
            "max_height": null,
            "max_width": null,
            "min_height": null,
            "min_width": null,
            "object_fit": null,
            "object_position": null,
            "order": null,
            "overflow": null,
            "overflow_x": null,
            "overflow_y": null,
            "padding": null,
            "right": null,
            "top": null,
            "visibility": null,
            "width": null
          }
        },
        "6c7dd850c5614aaeaef791981f415b8f": {
          "model_module": "@jupyter-widgets/controls",
          "model_name": "ProgressStyleModel",
          "model_module_version": "1.5.0",
          "state": {
            "_model_module": "@jupyter-widgets/controls",
            "_model_module_version": "1.5.0",
            "_model_name": "ProgressStyleModel",
            "_view_count": null,
            "_view_module": "@jupyter-widgets/base",
            "_view_module_version": "1.2.0",
            "_view_name": "StyleView",
            "bar_color": null,
            "description_width": ""
          }
        },
        "9bac2a5efdca45b49e2b27884e894990": {
          "model_module": "@jupyter-widgets/base",
          "model_name": "LayoutModel",
          "model_module_version": "1.2.0",
          "state": {
            "_model_module": "@jupyter-widgets/base",
            "_model_module_version": "1.2.0",
            "_model_name": "LayoutModel",
            "_view_count": null,
            "_view_module": "@jupyter-widgets/base",
            "_view_module_version": "1.2.0",
            "_view_name": "LayoutView",
            "align_content": null,
            "align_items": null,
            "align_self": null,
            "border": null,
            "bottom": null,
            "display": null,
            "flex": null,
            "flex_flow": null,
            "grid_area": null,
            "grid_auto_columns": null,
            "grid_auto_flow": null,
            "grid_auto_rows": null,
            "grid_column": null,
            "grid_gap": null,
            "grid_row": null,
            "grid_template_areas": null,
            "grid_template_columns": null,
            "grid_template_rows": null,
            "height": null,
            "justify_content": null,
            "justify_items": null,
            "left": null,
            "margin": null,
            "max_height": null,
            "max_width": null,
            "min_height": null,
            "min_width": null,
            "object_fit": null,
            "object_position": null,
            "order": null,
            "overflow": null,
            "overflow_x": null,
            "overflow_y": null,
            "padding": null,
            "right": null,
            "top": null,
            "visibility": null,
            "width": null
          }
        },
        "98a6ba19c8ea4e0c89aaf8581649ee4c": {
          "model_module": "@jupyter-widgets/controls",
          "model_name": "DescriptionStyleModel",
          "model_module_version": "1.5.0",
          "state": {
            "_model_module": "@jupyter-widgets/controls",
            "_model_module_version": "1.5.0",
            "_model_name": "DescriptionStyleModel",
            "_view_count": null,
            "_view_module": "@jupyter-widgets/base",
            "_view_module_version": "1.2.0",
            "_view_name": "StyleView",
            "description_width": ""
          }
        },
        "c08e52ed1b2948b0b5bd077518a8f30f": {
          "model_module": "@jupyter-widgets/controls",
          "model_name": "HBoxModel",
          "model_module_version": "1.5.0",
          "state": {
            "_dom_classes": [],
            "_model_module": "@jupyter-widgets/controls",
            "_model_module_version": "1.5.0",
            "_model_name": "HBoxModel",
            "_view_count": null,
            "_view_module": "@jupyter-widgets/controls",
            "_view_module_version": "1.5.0",
            "_view_name": "HBoxView",
            "box_style": "",
            "children": [
              "IPY_MODEL_41d2542ba8214fdb850a0c425e5a9a95",
              "IPY_MODEL_e52f22157deb49db8d627eca1f0b8c94",
              "IPY_MODEL_23d7cb12c2114508b303659448a79122"
            ],
            "layout": "IPY_MODEL_abdcc43d0e6f4ed491093412697bc23b"
          }
        },
        "41d2542ba8214fdb850a0c425e5a9a95": {
          "model_module": "@jupyter-widgets/controls",
          "model_name": "HTMLModel",
          "model_module_version": "1.5.0",
          "state": {
            "_dom_classes": [],
            "_model_module": "@jupyter-widgets/controls",
            "_model_module_version": "1.5.0",
            "_model_name": "HTMLModel",
            "_view_count": null,
            "_view_module": "@jupyter-widgets/controls",
            "_view_module_version": "1.5.0",
            "_view_name": "HTMLView",
            "description": "",
            "description_tooltip": null,
            "layout": "IPY_MODEL_9127cc107bee4b8e9f0fab056f6c7aae",
            "placeholder": "​",
            "style": "IPY_MODEL_e19320b5007043abb469bd69f81286af",
            "value": "tokenizer.json: 100%"
          }
        },
        "e52f22157deb49db8d627eca1f0b8c94": {
          "model_module": "@jupyter-widgets/controls",
          "model_name": "FloatProgressModel",
          "model_module_version": "1.5.0",
          "state": {
            "_dom_classes": [],
            "_model_module": "@jupyter-widgets/controls",
            "_model_module_version": "1.5.0",
            "_model_name": "FloatProgressModel",
            "_view_count": null,
            "_view_module": "@jupyter-widgets/controls",
            "_view_module_version": "1.5.0",
            "_view_name": "ProgressView",
            "bar_style": "success",
            "description": "",
            "description_tooltip": null,
            "layout": "IPY_MODEL_9f51a3ab7e5a4c5c8a2b93984cc0dc9e",
            "max": 2424064,
            "min": 0,
            "orientation": "horizontal",
            "style": "IPY_MODEL_de4521194ff84a80a4b8292fec7a7caa",
            "value": 2424064
          }
        },
        "23d7cb12c2114508b303659448a79122": {
          "model_module": "@jupyter-widgets/controls",
          "model_name": "HTMLModel",
          "model_module_version": "1.5.0",
          "state": {
            "_dom_classes": [],
            "_model_module": "@jupyter-widgets/controls",
            "_model_module_version": "1.5.0",
            "_model_name": "HTMLModel",
            "_view_count": null,
            "_view_module": "@jupyter-widgets/controls",
            "_view_module_version": "1.5.0",
            "_view_name": "HTMLView",
            "description": "",
            "description_tooltip": null,
            "layout": "IPY_MODEL_511712c1c6a84d5d9b21b3402419c06a",
            "placeholder": "​",
            "style": "IPY_MODEL_fa56ed7d4f324d9cb45c4ab0fa5d2b9d",
            "value": " 2.42M/2.42M [00:00&lt;00:00, 24.1MB/s]"
          }
        },
        "abdcc43d0e6f4ed491093412697bc23b": {
          "model_module": "@jupyter-widgets/base",
          "model_name": "LayoutModel",
          "model_module_version": "1.2.0",
          "state": {
            "_model_module": "@jupyter-widgets/base",
            "_model_module_version": "1.2.0",
            "_model_name": "LayoutModel",
            "_view_count": null,
            "_view_module": "@jupyter-widgets/base",
            "_view_module_version": "1.2.0",
            "_view_name": "LayoutView",
            "align_content": null,
            "align_items": null,
            "align_self": null,
            "border": null,
            "bottom": null,
            "display": null,
            "flex": null,
            "flex_flow": null,
            "grid_area": null,
            "grid_auto_columns": null,
            "grid_auto_flow": null,
            "grid_auto_rows": null,
            "grid_column": null,
            "grid_gap": null,
            "grid_row": null,
            "grid_template_areas": null,
            "grid_template_columns": null,
            "grid_template_rows": null,
            "height": null,
            "justify_content": null,
            "justify_items": null,
            "left": null,
            "margin": null,
            "max_height": null,
            "max_width": null,
            "min_height": null,
            "min_width": null,
            "object_fit": null,
            "object_position": null,
            "order": null,
            "overflow": null,
            "overflow_x": null,
            "overflow_y": null,
            "padding": null,
            "right": null,
            "top": null,
            "visibility": null,
            "width": null
          }
        },
        "9127cc107bee4b8e9f0fab056f6c7aae": {
          "model_module": "@jupyter-widgets/base",
          "model_name": "LayoutModel",
          "model_module_version": "1.2.0",
          "state": {
            "_model_module": "@jupyter-widgets/base",
            "_model_module_version": "1.2.0",
            "_model_name": "LayoutModel",
            "_view_count": null,
            "_view_module": "@jupyter-widgets/base",
            "_view_module_version": "1.2.0",
            "_view_name": "LayoutView",
            "align_content": null,
            "align_items": null,
            "align_self": null,
            "border": null,
            "bottom": null,
            "display": null,
            "flex": null,
            "flex_flow": null,
            "grid_area": null,
            "grid_auto_columns": null,
            "grid_auto_flow": null,
            "grid_auto_rows": null,
            "grid_column": null,
            "grid_gap": null,
            "grid_row": null,
            "grid_template_areas": null,
            "grid_template_columns": null,
            "grid_template_rows": null,
            "height": null,
            "justify_content": null,
            "justify_items": null,
            "left": null,
            "margin": null,
            "max_height": null,
            "max_width": null,
            "min_height": null,
            "min_width": null,
            "object_fit": null,
            "object_position": null,
            "order": null,
            "overflow": null,
            "overflow_x": null,
            "overflow_y": null,
            "padding": null,
            "right": null,
            "top": null,
            "visibility": null,
            "width": null
          }
        },
        "e19320b5007043abb469bd69f81286af": {
          "model_module": "@jupyter-widgets/controls",
          "model_name": "DescriptionStyleModel",
          "model_module_version": "1.5.0",
          "state": {
            "_model_module": "@jupyter-widgets/controls",
            "_model_module_version": "1.5.0",
            "_model_name": "DescriptionStyleModel",
            "_view_count": null,
            "_view_module": "@jupyter-widgets/base",
            "_view_module_version": "1.2.0",
            "_view_name": "StyleView",
            "description_width": ""
          }
        },
        "9f51a3ab7e5a4c5c8a2b93984cc0dc9e": {
          "model_module": "@jupyter-widgets/base",
          "model_name": "LayoutModel",
          "model_module_version": "1.2.0",
          "state": {
            "_model_module": "@jupyter-widgets/base",
            "_model_module_version": "1.2.0",
            "_model_name": "LayoutModel",
            "_view_count": null,
            "_view_module": "@jupyter-widgets/base",
            "_view_module_version": "1.2.0",
            "_view_name": "LayoutView",
            "align_content": null,
            "align_items": null,
            "align_self": null,
            "border": null,
            "bottom": null,
            "display": null,
            "flex": null,
            "flex_flow": null,
            "grid_area": null,
            "grid_auto_columns": null,
            "grid_auto_flow": null,
            "grid_auto_rows": null,
            "grid_column": null,
            "grid_gap": null,
            "grid_row": null,
            "grid_template_areas": null,
            "grid_template_columns": null,
            "grid_template_rows": null,
            "height": null,
            "justify_content": null,
            "justify_items": null,
            "left": null,
            "margin": null,
            "max_height": null,
            "max_width": null,
            "min_height": null,
            "min_width": null,
            "object_fit": null,
            "object_position": null,
            "order": null,
            "overflow": null,
            "overflow_x": null,
            "overflow_y": null,
            "padding": null,
            "right": null,
            "top": null,
            "visibility": null,
            "width": null
          }
        },
        "de4521194ff84a80a4b8292fec7a7caa": {
          "model_module": "@jupyter-widgets/controls",
          "model_name": "ProgressStyleModel",
          "model_module_version": "1.5.0",
          "state": {
            "_model_module": "@jupyter-widgets/controls",
            "_model_module_version": "1.5.0",
            "_model_name": "ProgressStyleModel",
            "_view_count": null,
            "_view_module": "@jupyter-widgets/base",
            "_view_module_version": "1.2.0",
            "_view_name": "StyleView",
            "bar_color": null,
            "description_width": ""
          }
        },
        "511712c1c6a84d5d9b21b3402419c06a": {
          "model_module": "@jupyter-widgets/base",
          "model_name": "LayoutModel",
          "model_module_version": "1.2.0",
          "state": {
            "_model_module": "@jupyter-widgets/base",
            "_model_module_version": "1.2.0",
            "_model_name": "LayoutModel",
            "_view_count": null,
            "_view_module": "@jupyter-widgets/base",
            "_view_module_version": "1.2.0",
            "_view_name": "LayoutView",
            "align_content": null,
            "align_items": null,
            "align_self": null,
            "border": null,
            "bottom": null,
            "display": null,
            "flex": null,
            "flex_flow": null,
            "grid_area": null,
            "grid_auto_columns": null,
            "grid_auto_flow": null,
            "grid_auto_rows": null,
            "grid_column": null,
            "grid_gap": null,
            "grid_row": null,
            "grid_template_areas": null,
            "grid_template_columns": null,
            "grid_template_rows": null,
            "height": null,
            "justify_content": null,
            "justify_items": null,
            "left": null,
            "margin": null,
            "max_height": null,
            "max_width": null,
            "min_height": null,
            "min_width": null,
            "object_fit": null,
            "object_position": null,
            "order": null,
            "overflow": null,
            "overflow_x": null,
            "overflow_y": null,
            "padding": null,
            "right": null,
            "top": null,
            "visibility": null,
            "width": null
          }
        },
        "fa56ed7d4f324d9cb45c4ab0fa5d2b9d": {
          "model_module": "@jupyter-widgets/controls",
          "model_name": "DescriptionStyleModel",
          "model_module_version": "1.5.0",
          "state": {
            "_model_module": "@jupyter-widgets/controls",
            "_model_module_version": "1.5.0",
            "_model_name": "DescriptionStyleModel",
            "_view_count": null,
            "_view_module": "@jupyter-widgets/base",
            "_view_module_version": "1.2.0",
            "_view_name": "StyleView",
            "description_width": ""
          }
        },
        "e8905e012a5549a6a11dd9787c95016c": {
          "model_module": "@jupyter-widgets/controls",
          "model_name": "HBoxModel",
          "model_module_version": "1.5.0",
          "state": {
            "_dom_classes": [],
            "_model_module": "@jupyter-widgets/controls",
            "_model_module_version": "1.5.0",
            "_model_name": "HBoxModel",
            "_view_count": null,
            "_view_module": "@jupyter-widgets/controls",
            "_view_module_version": "1.5.0",
            "_view_name": "HBoxView",
            "box_style": "",
            "children": [
              "IPY_MODEL_ef228c684bf44c57b73220b2495e7fd7",
              "IPY_MODEL_86bd74bec78c429d8852b5b36e1c6a8d",
              "IPY_MODEL_00238467ea8a4001859d48b78cd3b7f7"
            ],
            "layout": "IPY_MODEL_d1a34d74d92a48909b5770f3e65225ac"
          }
        },
        "ef228c684bf44c57b73220b2495e7fd7": {
          "model_module": "@jupyter-widgets/controls",
          "model_name": "HTMLModel",
          "model_module_version": "1.5.0",
          "state": {
            "_dom_classes": [],
            "_model_module": "@jupyter-widgets/controls",
            "_model_module_version": "1.5.0",
            "_model_name": "HTMLModel",
            "_view_count": null,
            "_view_module": "@jupyter-widgets/controls",
            "_view_module_version": "1.5.0",
            "_view_name": "HTMLView",
            "description": "",
            "description_tooltip": null,
            "layout": "IPY_MODEL_389eb66bd00c4f66880fc191401665d8",
            "placeholder": "​",
            "style": "IPY_MODEL_e05497ab0b404e03b7052dc09c11bb7e",
            "value": "special_tokens_map.json: 100%"
          }
        },
        "86bd74bec78c429d8852b5b36e1c6a8d": {
          "model_module": "@jupyter-widgets/controls",
          "model_name": "FloatProgressModel",
          "model_module_version": "1.5.0",
          "state": {
            "_dom_classes": [],
            "_model_module": "@jupyter-widgets/controls",
            "_model_module_version": "1.5.0",
            "_model_name": "FloatProgressModel",
            "_view_count": null,
            "_view_module": "@jupyter-widgets/controls",
            "_view_module_version": "1.5.0",
            "_view_name": "ProgressView",
            "bar_style": "success",
            "description": "",
            "description_tooltip": null,
            "layout": "IPY_MODEL_2dde9806781b4cce84468c27e9de0601",
            "max": 2201,
            "min": 0,
            "orientation": "horizontal",
            "style": "IPY_MODEL_4a9398186bf9490b80c9c021461fa4fe",
            "value": 2201
          }
        },
        "00238467ea8a4001859d48b78cd3b7f7": {
          "model_module": "@jupyter-widgets/controls",
          "model_name": "HTMLModel",
          "model_module_version": "1.5.0",
          "state": {
            "_dom_classes": [],
            "_model_module": "@jupyter-widgets/controls",
            "_model_module_version": "1.5.0",
            "_model_name": "HTMLModel",
            "_view_count": null,
            "_view_module": "@jupyter-widgets/controls",
            "_view_module_version": "1.5.0",
            "_view_name": "HTMLView",
            "description": "",
            "description_tooltip": null,
            "layout": "IPY_MODEL_d4167ba954a24f74b21255f8bb990377",
            "placeholder": "​",
            "style": "IPY_MODEL_0a55de71dea8402e85c50c2b20021e24",
            "value": " 2.20k/2.20k [00:00&lt;00:00, 184kB/s]"
          }
        },
        "d1a34d74d92a48909b5770f3e65225ac": {
          "model_module": "@jupyter-widgets/base",
          "model_name": "LayoutModel",
          "model_module_version": "1.2.0",
          "state": {
            "_model_module": "@jupyter-widgets/base",
            "_model_module_version": "1.2.0",
            "_model_name": "LayoutModel",
            "_view_count": null,
            "_view_module": "@jupyter-widgets/base",
            "_view_module_version": "1.2.0",
            "_view_name": "LayoutView",
            "align_content": null,
            "align_items": null,
            "align_self": null,
            "border": null,
            "bottom": null,
            "display": null,
            "flex": null,
            "flex_flow": null,
            "grid_area": null,
            "grid_auto_columns": null,
            "grid_auto_flow": null,
            "grid_auto_rows": null,
            "grid_column": null,
            "grid_gap": null,
            "grid_row": null,
            "grid_template_areas": null,
            "grid_template_columns": null,
            "grid_template_rows": null,
            "height": null,
            "justify_content": null,
            "justify_items": null,
            "left": null,
            "margin": null,
            "max_height": null,
            "max_width": null,
            "min_height": null,
            "min_width": null,
            "object_fit": null,
            "object_position": null,
            "order": null,
            "overflow": null,
            "overflow_x": null,
            "overflow_y": null,
            "padding": null,
            "right": null,
            "top": null,
            "visibility": null,
            "width": null
          }
        },
        "389eb66bd00c4f66880fc191401665d8": {
          "model_module": "@jupyter-widgets/base",
          "model_name": "LayoutModel",
          "model_module_version": "1.2.0",
          "state": {
            "_model_module": "@jupyter-widgets/base",
            "_model_module_version": "1.2.0",
            "_model_name": "LayoutModel",
            "_view_count": null,
            "_view_module": "@jupyter-widgets/base",
            "_view_module_version": "1.2.0",
            "_view_name": "LayoutView",
            "align_content": null,
            "align_items": null,
            "align_self": null,
            "border": null,
            "bottom": null,
            "display": null,
            "flex": null,
            "flex_flow": null,
            "grid_area": null,
            "grid_auto_columns": null,
            "grid_auto_flow": null,
            "grid_auto_rows": null,
            "grid_column": null,
            "grid_gap": null,
            "grid_row": null,
            "grid_template_areas": null,
            "grid_template_columns": null,
            "grid_template_rows": null,
            "height": null,
            "justify_content": null,
            "justify_items": null,
            "left": null,
            "margin": null,
            "max_height": null,
            "max_width": null,
            "min_height": null,
            "min_width": null,
            "object_fit": null,
            "object_position": null,
            "order": null,
            "overflow": null,
            "overflow_x": null,
            "overflow_y": null,
            "padding": null,
            "right": null,
            "top": null,
            "visibility": null,
            "width": null
          }
        },
        "e05497ab0b404e03b7052dc09c11bb7e": {
          "model_module": "@jupyter-widgets/controls",
          "model_name": "DescriptionStyleModel",
          "model_module_version": "1.5.0",
          "state": {
            "_model_module": "@jupyter-widgets/controls",
            "_model_module_version": "1.5.0",
            "_model_name": "DescriptionStyleModel",
            "_view_count": null,
            "_view_module": "@jupyter-widgets/base",
            "_view_module_version": "1.2.0",
            "_view_name": "StyleView",
            "description_width": ""
          }
        },
        "2dde9806781b4cce84468c27e9de0601": {
          "model_module": "@jupyter-widgets/base",
          "model_name": "LayoutModel",
          "model_module_version": "1.2.0",
          "state": {
            "_model_module": "@jupyter-widgets/base",
            "_model_module_version": "1.2.0",
            "_model_name": "LayoutModel",
            "_view_count": null,
            "_view_module": "@jupyter-widgets/base",
            "_view_module_version": "1.2.0",
            "_view_name": "LayoutView",
            "align_content": null,
            "align_items": null,
            "align_self": null,
            "border": null,
            "bottom": null,
            "display": null,
            "flex": null,
            "flex_flow": null,
            "grid_area": null,
            "grid_auto_columns": null,
            "grid_auto_flow": null,
            "grid_auto_rows": null,
            "grid_column": null,
            "grid_gap": null,
            "grid_row": null,
            "grid_template_areas": null,
            "grid_template_columns": null,
            "grid_template_rows": null,
            "height": null,
            "justify_content": null,
            "justify_items": null,
            "left": null,
            "margin": null,
            "max_height": null,
            "max_width": null,
            "min_height": null,
            "min_width": null,
            "object_fit": null,
            "object_position": null,
            "order": null,
            "overflow": null,
            "overflow_x": null,
            "overflow_y": null,
            "padding": null,
            "right": null,
            "top": null,
            "visibility": null,
            "width": null
          }
        },
        "4a9398186bf9490b80c9c021461fa4fe": {
          "model_module": "@jupyter-widgets/controls",
          "model_name": "ProgressStyleModel",
          "model_module_version": "1.5.0",
          "state": {
            "_model_module": "@jupyter-widgets/controls",
            "_model_module_version": "1.5.0",
            "_model_name": "ProgressStyleModel",
            "_view_count": null,
            "_view_module": "@jupyter-widgets/base",
            "_view_module_version": "1.2.0",
            "_view_name": "StyleView",
            "bar_color": null,
            "description_width": ""
          }
        },
        "d4167ba954a24f74b21255f8bb990377": {
          "model_module": "@jupyter-widgets/base",
          "model_name": "LayoutModel",
          "model_module_version": "1.2.0",
          "state": {
            "_model_module": "@jupyter-widgets/base",
            "_model_module_version": "1.2.0",
            "_model_name": "LayoutModel",
            "_view_count": null,
            "_view_module": "@jupyter-widgets/base",
            "_view_module_version": "1.2.0",
            "_view_name": "LayoutView",
            "align_content": null,
            "align_items": null,
            "align_self": null,
            "border": null,
            "bottom": null,
            "display": null,
            "flex": null,
            "flex_flow": null,
            "grid_area": null,
            "grid_auto_columns": null,
            "grid_auto_flow": null,
            "grid_auto_rows": null,
            "grid_column": null,
            "grid_gap": null,
            "grid_row": null,
            "grid_template_areas": null,
            "grid_template_columns": null,
            "grid_template_rows": null,
            "height": null,
            "justify_content": null,
            "justify_items": null,
            "left": null,
            "margin": null,
            "max_height": null,
            "max_width": null,
            "min_height": null,
            "min_width": null,
            "object_fit": null,
            "object_position": null,
            "order": null,
            "overflow": null,
            "overflow_x": null,
            "overflow_y": null,
            "padding": null,
            "right": null,
            "top": null,
            "visibility": null,
            "width": null
          }
        },
        "0a55de71dea8402e85c50c2b20021e24": {
          "model_module": "@jupyter-widgets/controls",
          "model_name": "DescriptionStyleModel",
          "model_module_version": "1.5.0",
          "state": {
            "_model_module": "@jupyter-widgets/controls",
            "_model_module_version": "1.5.0",
            "_model_name": "DescriptionStyleModel",
            "_view_count": null,
            "_view_module": "@jupyter-widgets/base",
            "_view_module_version": "1.2.0",
            "_view_name": "StyleView",
            "description_width": ""
          }
        }
      }
    }
  },
  "nbformat": 4,
  "nbformat_minor": 5
}